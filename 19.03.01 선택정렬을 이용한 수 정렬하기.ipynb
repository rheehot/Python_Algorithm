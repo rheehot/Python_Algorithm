{
 "cells": [
  {
   "cell_type": "markdown",
   "metadata": {},
   "source": [
    "N개의 수가 주어졌을 때, 이를 오름차순으로 정렬하는 프로그램을 작성하시오.\n",
    "\n",
    "예제 입력 1 \n",
    "5\n",
    "5\n",
    "2\n",
    "3\n",
    "4\n",
    "1\n",
    "예제 출력 1\n",
    "1\n",
    "2\n",
    "3\n",
    "4\n",
    "5"
   ]
  },
  {
   "cell_type": "code",
   "execution_count": 5,
   "metadata": {},
   "outputs": [
    {
     "name": "stdout",
     "output_type": "stream",
     "text": [
      "[1, 2, 3, 4, 5]\n"
     ]
    }
   ],
   "source": [
    "# 기본 틀\n",
    "def select_sort(list):\n",
    "    for i in range(0,len(list)-1):\n",
    "        min_index = i\n",
    "        for j in range(i+1,len(list)):\n",
    "            if(list[j] < list[min_index]):\n",
    "                min_index =  j\n",
    "        list[i],list[min_index] = list[min_index], list[i]\n",
    "    \n",
    "\n",
    "d = [5,2,3,4,1]\n",
    "select_sort(d)\n",
    "print(d)"
   ]
  },
  {
   "cell_type": "code",
   "execution_count": 9,
   "metadata": {},
   "outputs": [
    {
     "name": "stdout",
     "output_type": "stream",
     "text": [
      "5\n",
      "5\n",
      "2\n",
      "3\n",
      "4\n",
      "1\n",
      "[5, 2, 3, 4, 1]\n"
     ]
    }
   ],
   "source": [
    "# 입력 테스트\n",
    "def input_count(list,count):\n",
    "    for i in range(count):\n",
    "        list.append(int(input()))\n",
    "    return list\n",
    "\n",
    "count = int(input())\n",
    "list = []\n",
    "list = input_count(list,count)\n",
    "print(list)"
   ]
  },
  {
   "cell_type": "code",
   "execution_count": 11,
   "metadata": {},
   "outputs": [
    {
     "name": "stdout",
     "output_type": "stream",
     "text": [
      "5\n",
      "5\n",
      "2\n",
      "3\n",
      "4\n",
      "1\n",
      "1\n",
      "2\n",
      "3\n",
      "4\n",
      "5\n"
     ]
    }
   ],
   "source": [
    "# 결합 후 문제 풀이 \n",
    "def input_count(list,count):\n",
    "    for i in range(count):\n",
    "        list.append(int(input()))\n",
    "    return list\n",
    "\n",
    "def select_sort(list):\n",
    "    for i in range(0,len(list)-1):\n",
    "        min_index = i\n",
    "        for j in range(i+1,len(list)):\n",
    "            if(list[j]<list[min_index]):\n",
    "                min_index = j\n",
    "        list[i], list[min_index] = list[min_index],list[i]\n",
    "    \n",
    "\n",
    "count = int(input())\n",
    "list = []\n",
    "list = input_count(list,count)\n",
    "select_sort(list)\n",
    "for i in range(len(list)):\n",
    "    print(list[i])"
   ]
  }
 ],
 "metadata": {
  "kernelspec": {
   "display_name": "Python 3",
   "language": "python",
   "name": "python3"
  },
  "language_info": {
   "codemirror_mode": {
    "name": "ipython",
    "version": 3
   },
   "file_extension": ".py",
   "mimetype": "text/x-python",
   "name": "python",
   "nbconvert_exporter": "python",
   "pygments_lexer": "ipython3",
   "version": "3.7.1"
  }
 },
 "nbformat": 4,
 "nbformat_minor": 2
}
