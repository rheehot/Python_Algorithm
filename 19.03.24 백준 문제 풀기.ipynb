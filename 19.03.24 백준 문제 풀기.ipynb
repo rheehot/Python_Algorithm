{
 "cells": [
  {
   "cell_type": "code",
   "execution_count": 11,
   "metadata": {},
   "outputs": [
    {
     "name": "stdout",
     "output_type": "stream",
     "text": [
      "5\n",
      "5 50 50 70 80 100\n",
      "7 100 95 90 80 70 60 50\n",
      "3 70 90 80\n",
      "3 70 90 81\n",
      "9 100 99 98 97 96 95 94 93 91\n",
      "40.0%\n",
      "57.143%\n",
      "33.333%\n",
      "66.667%\n",
      "55.556%\n"
     ]
    }
   ],
   "source": [
    "tc = int(input())\n",
    "case = []\n",
    "result = []\n",
    "for i in range(tc):\n",
    "    case.append(list(map(int,input().split())))\n",
    "for i in range(tc):\n",
    "    value = (sum(case[i])-case[i][0])/case[i][0]\n",
    "    count = 0\n",
    "    for j in range(1,case[i][0]+1):\n",
    "        if case[i][j] >= value:\n",
    "            count += 1\n",
    "    result.append(count / case[i][0]*100)\n",
    "    count = 0\n",
    "for i in range(tc):\n",
    "    print(round(result[i],3),end=\"%\\n\")"
   ]
  },
  {
   "cell_type": "code",
   "execution_count": 15,
   "metadata": {},
   "outputs": [
    {
     "name": "stdout",
     "output_type": "stream",
     "text": [
      "10 31\n",
      "WED\n"
     ]
    }
   ],
   "source": [
    "Day = 0\n",
    "arr = [ 31,28,31,30,31,30,31,30,31,30,31,30,31]\n",
    "week = [\"SUN\",\"MON\",\"TUE\",\"WED\",\"THU\",\"FRI\",\"SAT\"]\n",
    "\n",
    "x, y = map(int,input().split())\n",
    "for i in range(x-1):\n",
    "    Day += arr[i]\n",
    "Day = (Day + y) % 7\n",
    "\n",
    "print(week[Day])"
   ]
  },
  {
   "cell_type": "code",
   "execution_count": 7,
   "metadata": {},
   "outputs": [
    {
     "name": "stdout",
     "output_type": "stream",
     "text": [
      "5\n",
      "1 5 2 3\n",
      "4\n"
     ]
    }
   ],
   "source": [
    "def f(a,n):\n",
    "    for i in range(n):\n",
    "        if a[i] != i+1:\n",
    "            return i+1\n",
    "    return -1\n",
    "\n",
    "\n",
    "n = int(input())\n",
    "a = list(map(int,input().split()))\n",
    "a.sort()\n",
    "a_n = len(a) \n",
    "print(f(a,a_n))"
   ]
  }
 ],
 "metadata": {
  "kernelspec": {
   "display_name": "Python 3",
   "language": "python",
   "name": "python3"
  },
  "language_info": {
   "codemirror_mode": {
    "name": "ipython",
    "version": 3
   },
   "file_extension": ".py",
   "mimetype": "text/x-python",
   "name": "python",
   "nbconvert_exporter": "python",
   "pygments_lexer": "ipython3",
   "version": "3.7.1"
  }
 },
 "nbformat": 4,
 "nbformat_minor": 2
}
