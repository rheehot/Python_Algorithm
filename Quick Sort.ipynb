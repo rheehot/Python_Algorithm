{
 "cells": [
  {
   "cell_type": "markdown",
   "metadata": {},
   "source": [
    "퀵소트는 효율도 좋고 참말로 좋은 정렬방법이니까 왠만하면 이거 쓰면 될 것같아요."
   ]
  },
  {
   "cell_type": "code",
   "execution_count": 15,
   "metadata": {},
   "outputs": [
    {
     "name": "stdout",
     "output_type": "stream",
     "text": [
      "< 과정출력 >\n",
      "[1, 2, 3, 7, 8, 5, 9, 6, 10, 4]\n",
      "[1, 2]\n",
      "[5, 6, 4, 7, 8, 9, 10]\n",
      "[4, 5, 6]\n",
      "[8, 9, 10]\n",
      "[9, 10]\n",
      "결과 :  [1, 2, 3, 4, 5, 6, 7, 8, 9, 10]\n"
     ]
    }
   ],
   "source": [
    "#오름차순\n",
    "def quick_sort(list):\n",
    "    if len(list)<=1:\n",
    "        return list\n",
    "    else :\n",
    "        pivot = list[0]\n",
    "        one_list = [element for element in list[1:] if element <= pivot ] \n",
    "        the_other_list = [element for element in list[1:] if element > pivot ]\n",
    "        print(one_list+[pivot]+the_other_list)\n",
    "        return quick_sort(one_list) + [pivot] + quick_sort(the_other_list)\n",
    "    \n",
    "    \n",
    "d = [3,7,8,1,5,9,6,10,2,4]\n",
    "print(\"< 과정출력 >\")\n",
    "b = quick_sort(d)\n",
    "print(\"결과 : \",b)"
   ]
  },
  {
   "cell_type": "code",
   "execution_count": 16,
   "metadata": {},
   "outputs": [
    {
     "name": "stdout",
     "output_type": "stream",
     "text": [
      "< 과정출력 >\n",
      "[7, 8, 5, 9, 6, 10, 4, 3, 1, 2]\n",
      "[8, 9, 10, 7, 5, 6, 4]\n",
      "[9, 10, 8]\n",
      "[10, 9]\n",
      "[6, 5, 4]\n",
      "[2, 1]\n",
      "결과 [10, 9, 8, 7, 6, 5, 4, 3, 2, 1]\n"
     ]
    }
   ],
   "source": [
    "# 내림차순\n",
    "def quick_sort(list):\n",
    "    if len(list)<=1:\n",
    "        return list\n",
    "    else :\n",
    "        pivot = list[0]\n",
    "        one_list = [element for element in list[1:] if element > pivot ] \n",
    "        the_other_list = [element for element in list[1:] if element <= pivot ]\n",
    "        print(one_list+[pivot]+the_other_list)\n",
    "        return quick_sort(one_list) + [pivot] + quick_sort(the_other_list)\n",
    "    \n",
    "    \n",
    "d = [3,7,8,1,5,9,6,10,2,4]\n",
    "print(\"< 과정출력 >\")\n",
    "b = quick_sort(d)\n",
    "print(\"결과\",b)"
   ]
  }
 ],
 "metadata": {
  "kernelspec": {
   "display_name": "Python 3",
   "language": "python",
   "name": "python3"
  },
  "language_info": {
   "codemirror_mode": {
    "name": "ipython",
    "version": 3
   },
   "file_extension": ".py",
   "mimetype": "text/x-python",
   "name": "python",
   "nbconvert_exporter": "python",
   "pygments_lexer": "ipython3",
   "version": "3.7.1"
  }
 },
 "nbformat": 4,
 "nbformat_minor": 2
}
