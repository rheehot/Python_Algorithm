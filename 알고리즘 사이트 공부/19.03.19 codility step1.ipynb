{
 "cells": [
  {
   "cell_type": "code",
   "execution_count": null,
   "metadata": {},
   "outputs": [],
   "source": [
    "def solution(N):\n",
    "    # write your code in Python 3.6\n",
    "    temp = []\n",
    "    vs_count = 0 \n",
    "    count =0\n",
    "    while N != 1:\n",
    "        temp.append(N%2)\n",
    "        N //= 2\n",
    "    temp.append(N)\n",
    "    for i in range(len(temp)-1,-1,-1):\n",
    "        if temp[i] == 1:\n",
    "            if vs_count < count:\n",
    "                vs_count = count\n",
    "            count = 0\n",
    "        else:\n",
    "            count += 1\n",
    "    return vs_count"
   ]
  },
  {
   "cell_type": "code",
   "execution_count": null,
   "metadata": {},
   "outputs": [],
   "source": [
    "def solution(A, K):\n",
    "    # write your code in Python 3.6\n",
    "    n = len(A)\n",
    "    for i in range(K):\n",
    "        for j in range(n-1,0,-1):\n",
    "            A[j],A[j-1] = A[j-1],A[j]\n",
    "    return A"
   ]
  }
 ],
 "metadata": {
  "kernelspec": {
   "display_name": "Python 3",
   "language": "python",
   "name": "python3"
  },
  "language_info": {
   "codemirror_mode": {
    "name": "ipython",
    "version": 3
   },
   "file_extension": ".py",
   "mimetype": "text/x-python",
   "name": "python",
   "nbconvert_exporter": "python",
   "pygments_lexer": "ipython3",
   "version": "3.7.1"
  }
 },
 "nbformat": 4,
 "nbformat_minor": 2
}
