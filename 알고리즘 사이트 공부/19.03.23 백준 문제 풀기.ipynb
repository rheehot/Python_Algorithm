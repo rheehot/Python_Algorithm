{
 "cells": [
  {
   "cell_type": "code",
   "execution_count": 17,
   "metadata": {},
   "outputs": [
    {
     "name": "stdout",
     "output_type": "stream",
     "text": [
      "10\n",
      "<class 'str'>\n",
      "901\n"
     ]
    }
   ],
   "source": [
    "a = 10\n",
    "b = str(a)\n",
    "print(b)\n",
    "print(type(b))\n",
    "a = 109\n",
    "b = str(a)\n",
    "b = b[::-1]\n",
    "a = int(b)\n",
    "print(a)"
   ]
  },
  {
   "cell_type": "code",
   "execution_count": 15,
   "metadata": {},
   "outputs": [
    {
     "name": "stdout",
     "output_type": "stream",
     "text": [
      "314\n",
      "11001100\n"
     ]
    }
   ],
   "source": [
    "def f(n):\n",
    "    a = 0\n",
    "    count = 0\n",
    "    while n !=0 :\n",
    "        a += n % 10 * 8 ** count\n",
    "        count += 1\n",
    "        n //= 10\n",
    "    b = bin(a)\n",
    "    c = int(b[2:])   \n",
    "    print(c)\n",
    "    \n",
    "n = int(input())\n",
    "f(n)"
   ]
  },
  {
   "cell_type": "code",
   "execution_count": 25,
   "metadata": {},
   "outputs": [
    {
     "name": "stdout",
     "output_type": "stream",
     "text": [
      "13\n",
      "but\n",
      "i\n",
      "wont\n",
      "hesitate\n",
      "no\n",
      "more\n",
      "no\n",
      "more\n",
      "it\n",
      "cannot\n",
      "wait\n",
      "im\n",
      "yours\n",
      "but\n",
      "no\n",
      "i\n",
      "it\n",
      "cannot\n",
      "more\n",
      "im\n",
      "wait\n",
      "yours\n",
      "wont\n",
      "hesitate\n"
     ]
    }
   ],
   "source": [
    "n = int(input())\n",
    "str_list = []\n",
    "for i in range(n):\n",
    "    str_list.append(input())\n",
    "str_list.sort()\n",
    "for j in range(n,0,-1):\n",
    "    for i in range(j-1):\n",
    "        if len(str_list[i])>len(str_list[i+1]):\n",
    "            str_list[i],str_list[i+1] = str_list[i+1],str_list[i]\n",
    "str_list = list(set(str_list))\n",
    "s_len = len(str_list)\n",
    "for i in range(s_len):\n",
    "    print(str_list[i])"
   ]
  }
 ],
 "metadata": {
  "kernelspec": {
   "display_name": "Python 3",
   "language": "python",
   "name": "python3"
  },
  "language_info": {
   "codemirror_mode": {
    "name": "ipython",
    "version": 3
   },
   "file_extension": ".py",
   "mimetype": "text/x-python",
   "name": "python",
   "nbconvert_exporter": "python",
   "pygments_lexer": "ipython3",
   "version": "3.7.1"
  }
 },
 "nbformat": 4,
 "nbformat_minor": 2
}
