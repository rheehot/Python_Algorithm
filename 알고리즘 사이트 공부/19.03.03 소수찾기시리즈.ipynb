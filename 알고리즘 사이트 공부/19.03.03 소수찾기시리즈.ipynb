{
 "cells": [
  {
   "cell_type": "markdown",
   "metadata": {},
   "source": [
    "헤헤헤 오랜만에 소수 찾는다아아 헤헤헤헤\n",
    "정수론 할때 실컷했는데\n",
    "우선 소수는 1과 자기 자신을 빼고는 나누어 떨어지지 않게끔 해야한다.\n"
   ]
  },
  {
   "cell_type": "code",
   "execution_count": 18,
   "metadata": {},
   "outputs": [
    {
     "name": "stdout",
     "output_type": "stream",
     "text": [
      "5\n",
      "4 12 8 9\n",
      "0\n"
     ]
    }
   ],
   "source": [
    "# 1978번 소수 판별 문제\n",
    "def is_pirme(number):\n",
    "    if number == 1:\n",
    "        return False\n",
    "    elif number == 2:\n",
    "        return True\n",
    "    elif number !=2 and number % 2 == 0:\n",
    "        return False\n",
    "    for i in range(3,number-1,2):\n",
    "        if number % i== 0:\n",
    "            return False\n",
    "    return True\n",
    "\n",
    "def main():\n",
    "    input_value = int(input())\n",
    "    prime_number = list(map(int, input().split(' ')))\n",
    "    count = 0\n",
    "    for i in range(len(prime_number)):\n",
    "        if is_pirme(prime_number[i]):\n",
    "            count += 1\n",
    "    print(count)\n",
    "    \n",
    "main()"
   ]
  },
  {
   "cell_type": "code",
   "execution_count": 27,
   "metadata": {},
   "outputs": [
    {
     "name": "stdout",
     "output_type": "stream",
     "text": [
      "64 65\n",
      "-1\n"
     ]
    }
   ],
   "source": [
    "def is_prime(number):\n",
    "    if number == 1:\n",
    "        return False\n",
    "    elif number == 2:\n",
    "        return True\n",
    "    elif number !=2 and number % 2 == 0:\n",
    "        return False\n",
    "    for i in range(3,number-1,2):\n",
    "        if number % i== 0:\n",
    "            return False\n",
    "    return True\n",
    "\n",
    "result = 0\n",
    "start,end = map(int,input().split())\n",
    "prime_list = []\n",
    "for i in range(start,end):\n",
    "    if is_prime(i):\n",
    "        prime_list.append(i)\n",
    "if len(prime_list)==0:\n",
    "    print(-1)\n",
    "else:\n",
    "    for i in range(len(prime_list)):\n",
    "        result += prime_list[i]\n",
    "    print(result)\n",
    "    print(prime_list[0])"
   ]
  },
  {
   "cell_type": "code",
   "execution_count": 15,
   "metadata": {},
   "outputs": [
    {
     "name": "stdout",
     "output_type": "stream",
     "text": [
      "3 16\n",
      "3\n",
      "5\n",
      "7\n",
      "11\n",
      "13\n"
     ]
    }
   ],
   "source": [
    "# 시간 초과가 뜸\n",
    "def is_prime(num):\n",
    "    if num == 1:\n",
    "        return False\n",
    "    elif num == 2:\n",
    "        return True\n",
    "    elif num != 2 and num % 2 == 0:\n",
    "        return False\n",
    "    else:\n",
    "        for i in range(3,num,2):\n",
    "            if num % i == 0:\n",
    "                return False\n",
    "        return True\n",
    "\n",
    "start, end = map(int,input().split())\n",
    "\n",
    "my_list = [i for i in range(start,end+1) if is_prime(i)==True]\n",
    "\n",
    "for i in range(len(my_list)):\n",
    "    print(my_list[i])"
   ]
  },
  {
   "cell_type": "code",
   "execution_count": 5,
   "metadata": {},
   "outputs": [
    {
     "name": "stdout",
     "output_type": "stream",
     "text": [
      "3 16\n",
      "[3, 4, 5, 6, 7, 8, 9, 10, 11, 12, 13, 14, 15, 16]\n",
      "2\n",
      "3\n",
      "4\n",
      "5\n",
      "6\n",
      "7\n",
      "8\n",
      "9\n",
      "10\n",
      "11\n",
      "12\n",
      "13\n",
      "14\n",
      "15\n",
      "[3, 5, 7, 9, 11, 13, 15, 0, 0, 0, 0, 0, 0, 0]\n"
     ]
    }
   ],
   "source": [
    "# 함수로 리스트 받고 해당 요소 지우고 리스트 반환해서\n",
    "# 그 리스트를 재귀형태로 불러들이고 그러는 함수로 만들자\n",
    "def \n",
    "\n",
    "start, end = map(int,input().split())\n",
    "\n",
    "my_list = [i for i in range(start,end+1)]\n",
    "print(my_list)\n",
    "n = len(my_list)\n",
    "\n",
    "\n",
    "print(my_list)"
   ]
  }
 ],
 "metadata": {
  "kernelspec": {
   "display_name": "Python 3",
   "language": "python",
   "name": "python3"
  },
  "language_info": {
   "codemirror_mode": {
    "name": "ipython",
    "version": 3
   },
   "file_extension": ".py",
   "mimetype": "text/x-python",
   "name": "python",
   "nbconvert_exporter": "python",
   "pygments_lexer": "ipython3",
   "version": "3.7.1"
  }
 },
 "nbformat": 4,
 "nbformat_minor": 2
}
