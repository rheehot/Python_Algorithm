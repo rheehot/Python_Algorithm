{
 "cells": [
  {
   "cell_type": "markdown",
   "metadata": {},
   "source": [
    "다이나믹 프로그래밍으로 할 수 있는 실습 중에 내가 수학적으로 부족한 부분들이 많이 있었다.<br>\n",
    "해당 부분은 바로 실력이 늘 수 있는 부분들이 아니기 때문에 꾸준히 풀 수 있도록 진행 하고 구현 부분부터 공부해 나가기로 한다 <br>"
   ]
  },
  {
   "cell_type": "markdown",
   "metadata": {},
   "source": [
    "정수 N개로 이루어진 수열 A와 정수 X가 주어진다. 이때, A에서 X보다 작은 수를 모두 출력하는 프로그램을 작성하시오.<br>\n",
    "< 입력 > <br>\n",
    "첫째 줄에 N과 X가 주어진다. (1 ≤ N, X ≤ 10,000)<br>\n",
    "\n",
    "둘째 줄에 수열 A를 이루는 정수 N개가 주어진다. 주어지는 정수는 모두 1보다 크거나 같고, 10,000보다 작거나 같은 정수이다.<br>\n",
    "< 출력 > <br>\n",
    "X보다 작은 수를 입력받은 순서대로 공백으로 구분해 출력한다. X보다 작은 수는 적어도 하나 존재한다.<br>"
   ]
  },
  {
   "cell_type": "code",
   "execution_count": 7,
   "metadata": {},
   "outputs": [
    {
     "name": "stdout",
     "output_type": "stream",
     "text": [
      "10 5\n",
      "1 10 4 9 2 3 8 5 7 6\n",
      "1 4 2 3 "
     ]
    }
   ],
   "source": [
    "if __name__==\"__main__\":\n",
    "    n,x = map(int,input().split())\n",
    "    n_list = list(map(int,input().split()))\n",
    "    r_list = [i for i in n_list if x > i]\n",
    "    r_n = len(r_list)\n",
    "    for i in range(r_n):\n",
    "        print(r_list[i],end=' ')"
   ]
  },
  {
   "cell_type": "markdown",
   "metadata": {},
   "source": [
    "우리나라 고유의 윷놀이는 네 개의 윷짝을 던져서 배(0)와 등(1)이 나오는 숫자를 세어 도, 개, 걸, 윷, 모를 결정한다.<br>\n",
    "네 개 윷짝을 던져서 나온 각 윷짝의 배 혹은 등 정보가 주어질 때 <br>\n",
    "도(배 한 개, 등 세 개), 개(배 두 개, 등 두 개), 걸(배 세 개, 등 한 개), 윷(배 네 개), 모(등 네 개) <br>\n",
    "중 어떤 것인지를 결정하는 프로그램을 작성하라.<br>\n",
    "< 입력 > <br>\n",
    "첫째 줄부터 셋째 줄까지 각 줄에 각각 한 번 던진 윷짝들의 상태를 나타내는 네 개의 정수(0 또는 1)가  빈칸을 사이에 두고 주어진다.<br>\n",
    "< 출력 > <br>\n",
    "첫째 줄부터 셋째 줄까지 한 줄에 하나씩 결과를  도는 A, 개는 B, 걸은 C, 윷은 D, 모는 E로 출력한다.<br>"
   ]
  },
  {
   "cell_type": "code",
   "execution_count": 10,
   "metadata": {},
   "outputs": [
    {
     "name": "stdout",
     "output_type": "stream",
     "text": [
      "0 1 0 1\n",
      "B\n",
      "1 1 1 0\n",
      "A\n",
      "0 0 1 0\n",
      "C\n"
     ]
    }
   ],
   "source": [
    "def yut_game(yut_list):\n",
    "    yut_count = 0\n",
    "    for i in range(len(yut_list)):\n",
    "        if yut_list[i] == 0:\n",
    "            yut_count += 1\n",
    "    if yut_count == 0:\n",
    "        print(\"E\")\n",
    "    elif yut_count == 1:\n",
    "        print(\"A\")\n",
    "    elif yut_count == 2:\n",
    "        print(\"B\")\n",
    "    elif yut_count == 3:\n",
    "        print(\"C\")\n",
    "    else:\n",
    "        print(\"D\")\n",
    "if __name__==\"__main__\":\n",
    "    for i in range(3):\n",
    "        yut = list(map(int,input().split()))\n",
    "        yut_game(yut)"
   ]
  }
 ],
 "metadata": {
  "kernelspec": {
   "display_name": "Python 3",
   "language": "python",
   "name": "python3"
  },
  "language_info": {
   "codemirror_mode": {
    "name": "ipython",
    "version": 3
   },
   "file_extension": ".py",
   "mimetype": "text/x-python",
   "name": "python",
   "nbconvert_exporter": "python",
   "pygments_lexer": "ipython3",
   "version": "3.7.1"
  }
 },
 "nbformat": 4,
 "nbformat_minor": 2
}
