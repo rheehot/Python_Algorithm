{
 "cells": [
  {
   "cell_type": "markdown",
   "metadata": {},
   "source": [
    "다이나믹 프로그래밍으로 할 수 있는 실습 중에 내가 수학적으로 부족한 부분들이 많이 있었다.<br>\n",
    "해당 부분은 바로 실력이 늘 수 있는 부분들이 아니기 때문에 꾸준히 풀 수 있도록 진행 하고 구현 부분부터 공부해 나가기로 한다 <br>"
   ]
  },
  {
   "cell_type": "markdown",
   "metadata": {},
   "source": [
    "정수 N개로 이루어진 수열 A와 정수 X가 주어진다. 이때, A에서 X보다 작은 수를 모두 출력하는 프로그램을 작성하시오.<br>\n",
    "< 입력 > <br>\n",
    "첫째 줄에 N과 X가 주어진다. (1 ≤ N, X ≤ 10,000)<br>\n",
    "\n",
    "둘째 줄에 수열 A를 이루는 정수 N개가 주어진다. 주어지는 정수는 모두 1보다 크거나 같고, 10,000보다 작거나 같은 정수이다.<br>\n",
    "< 출력 > <br>\n",
    "X보다 작은 수를 입력받은 순서대로 공백으로 구분해 출력한다. X보다 작은 수는 적어도 하나 존재한다.<br>"
   ]
  },
  {
   "cell_type": "code",
   "execution_count": 7,
   "metadata": {},
   "outputs": [
    {
     "name": "stdout",
     "output_type": "stream",
     "text": [
      "10 5\n",
      "1 10 4 9 2 3 8 5 7 6\n",
      "1 4 2 3 "
     ]
    }
   ],
   "source": [
    "if __name__==\"__main__\":\n",
    "    n,x = map(int,input().split())\n",
    "    n_list = list(map(int,input().split()))\n",
    "    r_list = [i for i in n_list if x > i]\n",
    "    r_n = len(r_list)\n",
    "    for i in range(r_n):\n",
    "        print(r_list[i],end=' ')"
   ]
  }
 ],
 "metadata": {
  "kernelspec": {
   "display_name": "Python 3",
   "language": "python",
   "name": "python3"
  },
  "language_info": {
   "codemirror_mode": {
    "name": "ipython",
    "version": 3
   },
   "file_extension": ".py",
   "mimetype": "text/x-python",
   "name": "python",
   "nbconvert_exporter": "python",
   "pygments_lexer": "ipython3",
   "version": "3.7.1"
  }
 },
 "nbformat": 4,
 "nbformat_minor": 2
}
