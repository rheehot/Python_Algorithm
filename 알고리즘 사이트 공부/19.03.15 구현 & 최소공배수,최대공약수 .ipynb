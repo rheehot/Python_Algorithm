{
 "cells": [
  {
   "cell_type": "markdown",
   "metadata": {},
   "source": []
  },
  {
   "cell_type": "markdown",
   "metadata": {},
   "source": [
    "19세기 독일 수학자 헤르만 민코프스키는 비유클리드 기하학 중 택시 기하학을 고안했다. <br>\n",
    "\n",
    "택시 기하학에서 두 점 T1(x1,y1), T2(x2,y2) 사이의 거리는 다음과 같이 구할 수 있다. <br>\n",
    " \n",
    "D(T1,T2) = |x1-x2| + |y1-y2| <br>\n",
    "\n",
    "두 점 사이의 거리를 제외한 나머지 정의는 유클리드 기하학에서의 정의와 같다. <br>\n",
    "\n",
    "따라서 택시 기하학에서 원의 정의는 유클리드 기하학에서 원의 정의와 같다. <br>\n",
    "\n",
    "원: 평면 상의 어떤 점에서 거리가 일정한 점들의 집합 <br>\n",
    "\n",
    "반지름 R이 주어졌을 때, 유클리드 기하학에서 원의 넓이와, 택시 기하학에서 원의 넓이를 구하는 프로그램을 작성하시오. <br>"
   ]
  },
  {
   "cell_type": "code",
   "execution_count": 25,
   "metadata": {},
   "outputs": [
    {
     "name": "stdout",
     "output_type": "stream",
     "text": [
      "1\n",
      "3.141593\n",
      "2.000000\n"
     ]
    }
   ],
   "source": [
    "import math\n",
    "\n",
    "if __name__==\"__main__\":\n",
    "    r = int(input())\n",
    "    print(\"{0:.6f}\".format(round(r*r*math.pi,6)))\n",
    "    print(\"{0:.6f}\".format(round(r*r*2,6)))"
   ]
  },
  {
   "cell_type": "markdown",
   "metadata": {},
   "source": [
    "두 자연수 A와 B에 대해서, A의 배수이면서 B의 배수인 자연수를 A와 B의 공배수라고 한다.<br>\n",
    "이런 공배수 중에서 가장 작은 수를 최소공배수라고 한다. 예를 들어, 6과 15의 공배수는 30, 60, 90등이 있으며, 최소 공배수는 30이다. <br>\n",
    "\n",
    "두 자연수 A와 B가 주어졌을 때, A와 B의 최소공배수를 구하는 프로그램을 작성하시오.<br>\n",
    "\n",
    "< 입력 ><br>\n",
    "첫째 줄에 테스트 케이스의 개수 T(1 ≤ T ≤ 1,000)가 주어진다. 둘째 줄부터 T개의 줄에 걸쳐서 A와 B가 주어진다. (1 ≤ A, B ≤ 45,000)<br>\n",
    "< 출력 ><br>\n",
    "첫째 줄부터 T개의 줄에 A와 B의 최소공배수를 입력받은 순서대로 한 줄에 하나씩 출력한다. <br>"
   ]
  },
  {
   "cell_type": "code",
   "execution_count": 2,
   "metadata": {},
   "outputs": [
    {
     "name": "stdout",
     "output_type": "stream",
     "text": [
      "3\n",
      "1 45000\n",
      "45000\n",
      "6 10\n",
      "30\n",
      "13 17\n",
      "221\n"
     ]
    }
   ],
   "source": [
    "def gcd(a,b):\n",
    "    return a if b==0 else gcd(b,a%b)\n",
    "\n",
    "def lcm(a,b):\n",
    "    t_gcd=gcd(a,b)\n",
    "    result = int( (a / t_gcd * b / t_gcd) * t_gcd )\n",
    "    return result\n",
    "\n",
    "if __name__ == \"__main__\":\n",
    "    t_case = int(input())\n",
    "    for i in range(t_case):\n",
    "        a,b = map(int,input().split())\n",
    "        print(lcm(a,b))"
   ]
  },
  {
   "cell_type": "markdown",
   "metadata": {},
   "source": [
    "정수 B에 0보다 큰 정수인 N을 곱해 정수 A를 만들 수 있다면, A는 B의 배수이다.<br>\n",
    "\n",
    "예: <br>\n",
    "\n",
    "10은 5의 배수이다 (5*2 = 10)<br>\n",
    "10은 10의 배수이다(10*1 = 10)<br>\n",
    "6은 1의 배수이다(1*6 = 6)<br>\n",
    "20은 1, 2, 4,5,10,20의 배수이다.<br>\n",
    "다른 예:<br>\n",
    "\n",
    "2와 5의 최소공배수는 10이고, 그 이유는 2와 5보다 작은 공배수가 없기 때문이다.<br>\n",
    "10과 20의 최소공배수는 20이다.<br>\n",
    "5와 3의 최소공배수는 15이다.<br>\n",
    "당신은 두 수에 대하여 최소공배수를 구하는 프로그램을 작성 하는 것이 목표이다.<br>"
   ]
  },
  {
   "cell_type": "code",
   "execution_count": 1,
   "metadata": {},
   "outputs": [
    {
     "name": "stdout",
     "output_type": "stream",
     "text": [
      "121 199\n",
      "24079\n"
     ]
    }
   ],
   "source": [
    "def gcd(a,b):\n",
    "    return a if b == 0 else gcd(b,a%b)\n",
    "\n",
    "def lcm(a,b):\n",
    "    gcd_temp = gcd(a,b)\n",
    "    result = int((a / gcd_temp * b / gcd_temp)*gcd_temp)\n",
    "    return result\n",
    "\n",
    "if __name__==\"__main__\":\n",
    "    a,b = map(int,input().split())\n",
    "    print(lcm(a,b))"
   ]
  },
  {
   "cell_type": "markdown",
   "metadata": {},
   "source": [
    "두 자연수를 입력받아 최대공약수와 최소공배수를 구하는 프로그램을 만들어라."
   ]
  },
  {
   "cell_type": "code",
   "execution_count": 1,
   "metadata": {},
   "outputs": [
    {
     "name": "stdout",
     "output_type": "stream",
     "text": [
      "24 18\n",
      "6\n",
      "72\n"
     ]
    }
   ],
   "source": [
    "def gcd(a,b):\n",
    "    return a if b == 0 else gcd(b,a%b)\n",
    "\n",
    "def lcm(a,b):\n",
    "    gcd_temp = gcd(a,b)\n",
    "    print(gcd_temp)\n",
    "    result = int((a/gcd_temp*b/gcd_temp)*gcd_temp)\n",
    "    return result\n",
    "    \n",
    "if __name__==\"__main__\":\n",
    "    a,b = map(int,input().split())\n",
    "    print(lcm(a,b))"
   ]
  },
  {
   "cell_type": "code",
   "execution_count": null,
   "metadata": {},
   "outputs": [],
   "source": [
    "import math\n",
    "\n",
    "if __name__==\"__main__\":\n",
    "    r1 , c1 , r2 , c2 = map(int,input().split())\n",
    "    a = []\n",
    "    for i in range(r1*(-2)+1):\n",
    "        b = []\n",
    "        for j in range(c1*(-2)+1):\n",
    "            b.append(0)\n",
    "        a.append(b)\n",
    "    # 2차원 리스트 출력해서 확인용\n",
    "    #print(a)\n",
    "    #a[3][3]=1\n",
    "    #print(a)\n",
    "    print(a)\n",
    "    a_size = (r1*(-2)+1)*(c1*(-2)+1)\n",
    "    print(a_size)\n",
    "    print(abs(r1),abs(c1))\n",
    "    # 3,3 센터 위치\n",
    "    y_pos = abs(r1) \n",
    "    x_pos = abs(c1)\n",
    "    x_count = 1\n",
    "    y_count = 1\n",
    "    for i in range(a_size):\n",
    "        a[y_pos][x_pos]=i+1\n",
    "        for x in range(1,abs(int(math.pow(-1,i))*x_count)+1):\n",
    "            if math.pow(-1,i)*x_count < 0:\n",
    "                a[y_pos][x_pos-x] = i\n",
    "                i += 1\n",
    "            else:\n",
    "                a[y_pos][x_pos+x] = i\n",
    "                i += 1\n",
    "        print(a)\n",
    "        x_count += 1\n",
    "        # 보류..\n"
   ]
  },
  {
   "cell_type": "raw",
   "metadata": {},
   "source": [
    "    -3 -2 -1  0  1  2  3\n",
    "    --------------------\n",
    "-3 |37 36 35 34 33 32 31\n",
    "-2 |38 17 16 15 14 13 30\n",
    "-1 |39 18  5  4  3 12 29\n",
    " 0 |40 19  6  1  2 11 28\n",
    " 1 |41 20  7  8  9 10 27\n",
    " 2 |42 21 22 23 24 25 26\n",
    " 3 |43 44 45 46 47 48 49"
   ]
  }
 ],
 "metadata": {
  "kernelspec": {
   "display_name": "Python 3",
   "language": "python",
   "name": "python3"
  },
  "language_info": {
   "codemirror_mode": {
    "name": "ipython",
    "version": 3
   },
   "file_extension": ".py",
   "mimetype": "text/x-python",
   "name": "python",
   "nbconvert_exporter": "python",
   "pygments_lexer": "ipython3",
   "version": "3.7.1"
  }
 },
 "nbformat": 4,
 "nbformat_minor": 2
}
