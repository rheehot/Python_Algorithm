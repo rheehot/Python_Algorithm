{
 "cells": [
  {
   "cell_type": "markdown",
   "metadata": {},
   "source": [
    "점심시간이 되면 반 학생 모두가 한 줄로 줄을 서서 급식을 탄다. 그런데 매일 같이 앞자리에 앉은 학생들이 앞에 줄을 서 먼저 점심을 먹고 뒷자리에 앉은 학생들은 뒤에 줄을 서 늦게 점심을 먹게 된다. 어떻게 하면 이러한 상황을 바꾸어 볼 수 있을까 고민하던 중 선생님이 한 가지 방법을 내 놓았다. 그 방법은 다음과 같다.\n",
    "\n",
    "학생들이 한 줄로 줄을 선 후 첫 번째 학생부터 차례​로 번호를 뽑는다.​\n",
    "첫 번째로 줄을 선 학생은 무조건 0번 번호를 받아 제일 앞에 줄을 선다.\n",
    "두 번째로 줄을 선 학생은 0번 또는 1번 둘 중 하나의 번호를 뽑는다. 0번을 뽑으면 그 자리에 그대로 있고 1번을 뽑으면 바로 앞의 학생 앞으로 가서 줄을 선다.\n",
    "세 번째로 줄을 선 학생은 0 1 또는 2 중 하나의 번호를 뽑는다. 그리고 뽑은 번호만큼 앞자리로 가서 줄을 선다.\n",
    "마지막에 줄을 선 학생까지 이와 같은 방식으로 뽑은 번호만큼 앞으로 가서 줄을 서게 된다.\n",
    "각자 뽑은 번호는 자신이 처음에 선 순서보다는 작은 수이다.\n",
    " \n",
    "\n",
    "예를 들어 5명의 학생이 줄을 서고 첫 번째로 줄을 선 학생부터 다섯 번째로 줄을 선 학생까지 차례로 0 1 1 3 2번의 번호를 뽑았다고 하자 첫 번째 학생부터 다섯 번째 학생까지 1부터 5로 표시하면 학생들이 줄을 선 순서는 다음과 같이 된다.\n",
    "\n",
    "첫 번째 학생이 번호를 뽑은 후 : 1 <br>\n",
    "두 번째 학생이 번호를 뽑은 후 : 2 1<br>\n",
    "세 번째 학생이 번호를 뽑은 후 : 2 3 1<br>\n",
    "네 번째 학생이 번호를 뽑은 후 : 4 2 3 1<br>\n",
    "다섯 번째 학생이 번호를 뽑은 후 : 4 2 5 3 1<br>\n",
    "따라서 최종적으로 학생들이 줄을 선 순서는 4 2 5 3 1이 된다.<br>\n",
    "줄을 선 학생들이 차례로 뽑은 번호가 주어질 때 학생들이 최종적으로 줄을 선 순서를 출력하는 프로그램을 작성하시오. <br>"
   ]
  },
  {
   "cell_type": "markdown",
   "metadata": {},
   "source": [
    "입력<br>\n",
    "5<br>\n",
    "0 1 1 3 2<br>\n",
    "출력<br>\n",
    "4 2 5 3 1<br>"
   ]
  },
  {
   "cell_type": "code",
   "execution_count": 17,
   "metadata": {},
   "outputs": [
    {
     "name": "stdout",
     "output_type": "stream",
     "text": [
      "5\n",
      "0 1 1 3 2\n",
      "[4, 2, 5, 3, 1]\n"
     ]
    }
   ],
   "source": [
    "people_count = int(input())\n",
    "\n",
    "people_list = []\n",
    "input_list = list(map(int,input().split()))\n",
    "for i in range(people_count):\n",
    "    people_list.insert(input_list[i],i+1)\n",
    "\n",
    "people_list.reverse()\n",
    "print(people_list)"
   ]
  },
  {
   "cell_type": "markdown",
   "metadata": {},
   "source": [
    "첫 번째 줄에는 도시락의 수 n(1부터 100사이의 정수)이 입력되고 다음 줄부터 n개의 줄에는 각 도시락의 가격(1,000부터 4,000사이의 정수)들을 입력받는다.</br>\n",
    "하나의 결과가 출력되면 프로그램을 종료한다.데이터의 크기가 주어진 범위를 벗어나는 데이터는 입력되지 않는다.<br>"
   ]
  },
  {
   "cell_type": "code",
   "execution_count": 25,
   "metadata": {},
   "outputs": [
    {
     "name": "stdout",
     "output_type": "stream",
     "text": [
      "3\n",
      "1500\n",
      "2000\n",
      "2500\n",
      "6000\n",
      "2000\n",
      "408.2\n"
     ]
    }
   ],
   "source": [
    "import math\n",
    "\n",
    "def main():\n",
    "    n = int(input())\n",
    "    if n<1 or n>100:\n",
    "        return\n",
    "    food_package = []\n",
    "    for i in range(n):\n",
    "        food_package.append(int(input()))\n",
    "        if food_package[i] <1000 or food_package[i] >4000:\n",
    "            return\n",
    "\n",
    "    food_package_sum = sum(food_package)\n",
    "    food_package_avg = food_package_sum / n\n",
    "\n",
    "    food_package_S = 0\n",
    "    for i in range(len(food_package)):\n",
    "         food_package_S += math.pow(food_package[i]-food_package_avg,2)/n\n",
    "    food_package_S = math.sqrt(food_package_S)\n",
    "    print(food_package_sum)\n",
    "    print(round(food_package_avg))\n",
    "    print(round(food_package_S,1))\n",
    "\n",
    "main()"
   ]
  },
  {
   "cell_type": "markdown",
   "metadata": {},
   "source": [
    "N개의 정수가 주어졌을 때 가장 큰 소수를 소인수로 가지는 숫자를 찾는 프로그램을 작성하라.\n",
    "\n",
    "여기서 소인수란 어떤 정수 x를 나누어떨어지게 할 수 있는 소수를 뜻하며 소수란 1과 자기 자신만을 나누어떨어지게 할 수 있는 숫자를 뜻한다.\n",
    "\n",
    "만약 36, 38, 40, 42의 숫자가 주어졌을 때 38의 경우 소수 19를 소인수로 가지게 되므로 답은 38이 된다.\n",
    "\n",
    "<br>\n",
    "\n",
    "입력의 첫 번째 줄은 정수의 개수를 뜻하는 N(1≤N≤5,000)이 입력된다.\n",
    "그 다음 줄부터 임의의 정수가 한 줄에 하나씩 입력되며 같은 숫자가 2번 들어오는 경우는 존재 하지 않는다.\n",
    "주어지게 되는 정수의 범위는 1 이상 20,000 이하이다."
   ]
  },
  {
   "cell_type": "code",
   "execution_count": 18,
   "metadata": {},
   "outputs": [
    {
     "name": "stdout",
     "output_type": "stream",
     "text": [
      "4\n",
      "36\n",
      "38\n",
      "40\n",
      "42\n",
      "38\n"
     ]
    }
   ],
   "source": [
    "def is_prime(number):\n",
    "    if number == 1:\n",
    "        return True\n",
    "    elif number == 2:\n",
    "        return True\n",
    "    elif number != 2 and number % 2 == 0:\n",
    "        return False\n",
    "    else:\n",
    "        for i in range(3,number,2):\n",
    "            if number % i == 0:\n",
    "                return False\n",
    "        return True\n",
    "    \n",
    "def prime_array(number):\n",
    "    p_list = []\n",
    "    for i in range(1,number):\n",
    "        if number % i == 0:\n",
    "            if is_prime(i) == True:\n",
    "                p_list.append(i)\n",
    "    temp = p_list[len(p_list)-1]\n",
    "    return temp\n",
    "\n",
    "if __name__ == \"__main__\":\n",
    "    n = int(input())\n",
    "    n_list = []\n",
    "    high_value = 0\n",
    "    save_pos = 0\n",
    "    for i in range(n):\n",
    "        n_list.append(int(input()))\n",
    "    for i in range(n):\n",
    "        temp = prime_array(n_list[i])\n",
    "        if high_value < temp:\n",
    "            high_value = temp\n",
    "            save_pos = i\n",
    "    print(n_list[save_pos])"
   ]
  },
  {
   "cell_type": "markdown",
   "metadata": {},
   "source": [
    "양의 정수를 입력받아 역으로 보여주고 각 자리 숫자의 합을 구하는 프로그램을 작성하라. <br>\n",
    "\n",
    "21억 이하의 양의 정수를 입력받는다. 잘못된 데이터는 입력되지 않는다.<br>\n",
    "하나의 결과가 나온 후에도 계속 새로운 입력을 받다가 0이 입력되면 프로그램을 종료한다.<br>\n",
    "\n",
    "입력받은 수의 역과 각 자리 숫자의 합을 공백으로 구분하여 출력한다.유효하지않은 \"0\"은 출력하지 않는다.<br>\n",
    "입력받은 수의 역도 21억 이하의 정수이다.<br>\n",
    "<입력 예> <br>\n",
    "453 <br>\n",
    "123456<br>\n",
    "0<br>\n",
    "<출력 예> <br>\n",
    "354 12 <br>\n",
    "654321 21 <br>\n"
   ]
  },
  {
   "cell_type": "code",
   "execution_count": 7,
   "metadata": {},
   "outputs": [
    {
     "name": "stdout",
     "output_type": "stream",
     "text": [
      "12345\n",
      "54321 15\n",
      "123456\n",
      "654321 21\n",
      "0\n"
     ]
    }
   ],
   "source": [
    "def n_pow(a,n):\n",
    "    if n == 0:\n",
    "        return 1\n",
    "    else:\n",
    "        return a * n_pow(a,n-1)\n",
    "    \n",
    "if __name__ ==\"__main__\":\n",
    "    while(True):\n",
    "        number = input()\n",
    "        if int(number) <= 0:\n",
    "            return\n",
    "        n = len(number)-1\n",
    "        result_list = []\n",
    "        result_number = 0\n",
    "        result_each_total = 0\n",
    "        for i in range(n,-1,-1):\n",
    "            input_result = int(number)// n_pow(10,i)\n",
    "            number = int(number) - input_result * n_pow(10,i)\n",
    "            result_list.insert(0,input_result)\n",
    "        for i in range(n+1):\n",
    "            result_number += result_list[i]*n_pow(10,(len(result_list)-1)-i)\n",
    "            result_each_total += result_list[i]\n",
    "        print(result_number,result_each_total)"
   ]
  },
  {
   "cell_type": "markdown",
   "metadata": {},
   "source": [
    "369게임은 많은 사람들이 즐기는 게임으로 원으로 둘러앉아서 순서대로 1 부터 숫자를 부르면서 3 이 들어가는 숫자(다른 방법으론 3의 배수)를 부를 경우 숫자 대신 박수를 쳐야하는 게임이다. <br>\n",
    "\n",
    "\n",
    "어느날 정올의 학생들이 소풍을 가서 369게임을 하려고 한다. 하지만 369 게임은 너무 식상하다 생각하던 차라 박수를 치는 수를 소수(1이외에 자기 자신으로만 나눠지는 2이상의 숫자)로 바꿔서 게임을 하고자 한다.<br>\n",
    "\n",
    "\n",
    "게임을 학생들의 수와 마지막에 부른 번호가 주어졌을 때 특정 사람이 박수를 몇 번 쳤는지 알아보는 프로그램을 작성하라.<br>\n",
    "\n",
    "입력은 한 줄로 주어진다. <br>\n",
    "학생 수 N(2≤N≤1,000)이 주어지고, 끝까지 부른 숫자 M(1≤M≤1,000,000)이 주어지며, 박수를 몇 번 쳤는지 알고 싶은 사람의 번호 K(0≤K＜N) 가 주어진다.<br>\n",
    "첫 번째 숫자를 부르는 학생은 0번 마지막 학생은 N-1번이며 N-1번 학생 다음에는 0번 학생의 차례가 오게 된다.<br>"
   ]
  },
  {
   "cell_type": "code",
   "execution_count": 12,
   "metadata": {},
   "outputs": [
    {
     "name": "stdout",
     "output_type": "stream",
     "text": [
      "3 9 1\n",
      "2\n"
     ]
    }
   ],
   "source": [
    "def is_prime(num):\n",
    "    if num == 1:\n",
    "        return True\n",
    "    elif num == 2:\n",
    "        return True\n",
    "    elif num != 2 and num % 2 == 0:\n",
    "        return False\n",
    "    else:\n",
    "        for i in range(3,num,2):\n",
    "            if num%i==0:\n",
    "                return False\n",
    "        return True\n",
    "    \n",
    "if __name__== \"__main__\":\n",
    "    n, end, who = map(int,input().split())\n",
    "    clap_list = []\n",
    "    for i in range(n):\n",
    "        clap_list.append(0)\n",
    "    if n < 2 or n > 1000:\n",
    "        return\n",
    "    if end < 1 or end > 1000000:\n",
    "        return\n",
    "    if who < 0 or who > n:\n",
    "        return\n",
    "    for i in range(1,end+1):\n",
    "        if is_prime(i)==True:\n",
    "            clap_list[(i-1)%n] += 1\n",
    "    print(clap_list[who])"
   ]
  }
 ],
 "metadata": {
  "kernelspec": {
   "display_name": "Python 3",
   "language": "python",
   "name": "python3"
  },
  "language_info": {
   "codemirror_mode": {
    "name": "ipython",
    "version": 3
   },
   "file_extension": ".py",
   "mimetype": "text/x-python",
   "name": "python",
   "nbconvert_exporter": "python",
   "pygments_lexer": "ipython3",
   "version": "3.7.1"
  }
 },
 "nbformat": 4,
 "nbformat_minor": 2
}
