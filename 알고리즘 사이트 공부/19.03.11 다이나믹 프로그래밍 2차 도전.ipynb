{
 "cells": [
  {
   "cell_type": "markdown",
   "metadata": {},
   "source": [
    "<b>정수 X에 사용할 수 있는 연산은 다음과 같이 세 가지 이다.</b> <br><br>\n",
    "\n",
    "<li> X가 3으로 나누어 떨어지면, 3으로 나눈다.</li>\n",
    "<li> X가 2로 나누어 떨어지면, 2로 나눈다. </li>\n",
    "<li> 1을 뺀다. </li>\n",
    "\n",
    "정수 N이 주어졌을 때, 위와 같은 연산 세 개를 적절히 사용해서 1을 만들려고 한다. 연산을 사용하는 횟수의 최솟값을 출력하시오.<br>"
   ]
  },
  {
   "cell_type": "code",
   "execution_count": 52,
   "metadata": {},
   "outputs": [
    {
     "name": "stdout",
     "output_type": "stream",
     "text": [
      "100\n",
      "7\n"
     ]
    }
   ],
   "source": [
    "if __name__==\"__main__\":\n",
    "    n = int(input())\n",
    "    count_list = []\n",
    "     # count_list 는 연산 횟수가 몇번인지 세는 샘\n",
    "    count_list.append(0) # 0의 경우 연산을 할 필요가 없다. 사실상 공간을 채우기 위함\n",
    "    count_list.append(0) # 1의 경우 1이기 때문에 연산을 할 필요가 없다.\n",
    "    count_list.append(1) # 2의 경우 2로 나누면 1 이 됨! 따라서 한번\n",
    "    count_list.append(1) # 3의 경우 3으로 나누면 1이 됨! 얘도 한번\n",
    "    # 위의 내용이 문제에서 주어진 내용\n",
    "    for i in range(4,n+1): # n의 값을 구하기 위해 범위를 넣어준다.\n",
    "        count_list.append(count_list[i-1]+1) # 이전의 값에서 1의 값을 추가한 경우\n",
    "        if i % 2 == 0: \n",
    "            # 2로 나누어 떨어졌을 때, 이전의 값에서 1을 추가한 경우와 2로 나눈 그때의 경우의 수에 2를 곱한 값과 어느 경우가 작은지 비교 \n",
    "            count_list[i] = min(count_list[i],count_list[i//2] + 1)\n",
    "        if i % 3 == 0: # elif 로 하게되면 조건에 \n",
    "            # 3으로 나누어 떨어졌을 때, 이전 값에서 1을 추가한 경우와 3으로 나눈 그때의 경우의 수에 3을 곱한 값과 어느 경우가 작은지 비교 \n",
    "            count_list[i] = min(count_list[i],count_list[i//3] + 1)\n",
    "    print(count_list[n])"
   ]
  }
 ],
 "metadata": {
  "kernelspec": {
   "display_name": "Python 3",
   "language": "python",
   "name": "python3"
  },
  "language_info": {
   "codemirror_mode": {
    "name": "ipython",
    "version": 3
   },
   "file_extension": ".py",
   "mimetype": "text/x-python",
   "name": "python",
   "nbconvert_exporter": "python",
   "pygments_lexer": "ipython3",
   "version": "3.7.1"
  }
 },
 "nbformat": 4,
 "nbformat_minor": 2
}
