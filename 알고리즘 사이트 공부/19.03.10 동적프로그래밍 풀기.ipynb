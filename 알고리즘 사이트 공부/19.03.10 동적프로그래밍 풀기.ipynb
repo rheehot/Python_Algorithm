{
 "cells": [
  {
   "cell_type": "markdown",
   "metadata": {},
   "source": [
    "# 동적 계획법 기초\n",
    "\n",
    "피보나치 함수에서 0과 1이 얼마나 호출되는지 풀어라! <br>\n",
    "<li>첫째 줄에 테스트 케이스 주어지고 피보나치 수열에 입력되는 값은 40보다 작거나 같은 자연수 or 0</li>"
   ]
  },
  {
   "cell_type": "code",
   "execution_count": 4,
   "metadata": {},
   "outputs": [
    {
     "name": "stdout",
     "output_type": "stream",
     "text": [
      "3\n",
      "0\n",
      "1 0\n",
      "1\n",
      "0 1\n",
      "3\n",
      "1 2\n"
     ]
    }
   ],
   "source": [
    "def fibonacci(t_list,n):\n",
    "    if n == 0:\n",
    "        t_list[0] += 1\n",
    "        return 0\n",
    "    elif n == 1:\n",
    "        t_list[1] += 1\n",
    "        return 1\n",
    "    else:\n",
    "        return fibonacci(t_list,n-1) + fibonacci(t_list,n-2)\n",
    "\n",
    "if __name__==\"__main__\":\n",
    "    test_case = int(input())\n",
    "    test_list = [int(0),int(0)]\n",
    "    for k in range(test_case):\n",
    "        value = int(input())\n",
    "        fibonacci(test_list,value)\n",
    "        print(test_list[0],test_list[1])\n",
    "        test_list = [int(0),int(0)]\n",
    "    "
   ]
  }
 ],
 "metadata": {
  "kernelspec": {
   "display_name": "Python 3",
   "language": "python",
   "name": "python3"
  },
  "language_info": {
   "codemirror_mode": {
    "name": "ipython",
    "version": 3
   },
   "file_extension": ".py",
   "mimetype": "text/x-python",
   "name": "python",
   "nbconvert_exporter": "python",
   "pygments_lexer": "ipython3",
   "version": "3.7.1"
  }
 },
 "nbformat": 4,
 "nbformat_minor": 2
}
