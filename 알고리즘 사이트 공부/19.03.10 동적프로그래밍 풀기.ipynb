{
 "cells": [
  {
   "cell_type": "markdown",
   "metadata": {},
   "source": [
    "# 동적 계획법 기초\n",
    "\n",
    "피보나치 함수에서 0과 1이 얼마나 호출되는지 풀어라! <br>\n",
    "<li>첫째 줄에 테스트 케이스 주어지고 피보나치 수열에 입력되는 값은 40보다 작거나 같은 자연수 or 0</li>"
   ]
  },
  {
   "cell_type": "code",
   "execution_count": 12,
   "metadata": {},
   "outputs": [
    {
     "name": "stdout",
     "output_type": "stream",
     "text": [
      "10\n",
      "0\n",
      "1 0\n",
      "1\n",
      "0 1\n",
      "2\n",
      "1 1\n",
      "3\n",
      "1 2\n",
      "4\n",
      "2 3\n",
      "5\n",
      "3 5\n",
      "6\n",
      "5 8\n",
      "7\n",
      "8 13\n",
      "8\n",
      "13 21\n",
      "9\n",
      "21 34\n"
     ]
    }
   ],
   "source": [
    "# 요놈은 하양식이자너.. 그래서 상향식으로 바꿔서 계산값을 기억하는 것? 고놈이 동적계획법의 시작인듯하다.\n",
    "def fibonacci(t_list,n):\n",
    "    if n == 0:\n",
    "        t_list[0] += 1\n",
    "        return 0\n",
    "    elif n == 1:\n",
    "        t_list[1] += 1\n",
    "        return 1\n",
    "    else:\n",
    "        return fibonacci(t_list,n-1) + fibonacci(t_list,n-2)\n",
    "\n",
    "if __name__==\"__main__\":\n",
    "    test_case = int(input())\n",
    "    for case in range(test_case):\n",
    "        value = int(input())\n",
    "        t_list = [0,0]\n",
    "        fibonacci(t_list,value)\n",
    "        print(t_list[0],t_list[1]) \n",
    "        t_list = [0,0]"
   ]
  },
  {
   "cell_type": "markdown",
   "metadata": {},
   "source": [
    "# 사기먹음\n",
    "# 이게 무슨... \n",
    "# ...시간줄이려고 그냥 출력시키면 된느...\n",
    "# 규칙성 가지고 숫자 출력;;;"
   ]
  },
  {
   "cell_type": "code",
   "execution_count": 14,
   "metadata": {},
   "outputs": [
    {
     "name": "stdout",
     "output_type": "stream",
     "text": [
      "3\n",
      "3\n",
      "1 2\n",
      "5\n",
      "3 5\n",
      "20\n",
      "4181 6765\n"
     ]
    }
   ],
   "source": [
    "fibo_arr = [0, 1]\n",
    "def fiborun(num):\n",
    "    if num == 0:\n",
    "        print('1 0')\n",
    "    elif num == 1:\n",
    "        print('0 1')\n",
    "    else:\n",
    "        length = len(fibo_arr)\n",
    "        if length < num+1:\n",
    "            for i in range(length, num+1):\n",
    "                fibo_arr.append(fibo_arr[i-1]+fibo_arr[i-2])\n",
    "                \n",
    "        print('{} {}'.format(fibo_arr[num-1],fibo_arr[num]))\n",
    "\n",
    "inp = int(input())\n",
    "for _ in range(inp):\n",
    "    n = int(input())\n",
    "    fiborun(n)"
   ]
  }
 ],
 "metadata": {
  "kernelspec": {
   "display_name": "Python 3",
   "language": "python",
   "name": "python3"
  },
  "language_info": {
   "codemirror_mode": {
    "name": "ipython",
    "version": 3
   },
   "file_extension": ".py",
   "mimetype": "text/x-python",
   "name": "python",
   "nbconvert_exporter": "python",
   "pygments_lexer": "ipython3",
   "version": "3.7.1"
  }
 },
 "nbformat": 4,
 "nbformat_minor": 2
}
