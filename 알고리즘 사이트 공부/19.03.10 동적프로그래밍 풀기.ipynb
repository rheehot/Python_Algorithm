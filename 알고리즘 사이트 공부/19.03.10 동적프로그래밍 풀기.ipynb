{
 "cells": [
  {
   "cell_type": "markdown",
   "metadata": {},
   "source": [
    "# 동적 계획법 기초\n",
    "\n",
    "피보나치 함수에서 0과 1이 얼마나 호출되는지 풀어라! <br>\n",
    "<li>첫째 줄에 테스트 케이스 주어지고 피보나치 수열에 입력되는 값은 40보다 작거나 같은 자연수 or 0</li>"
   ]
  },
  {
   "cell_type": "code",
   "execution_count": 12,
   "metadata": {},
   "outputs": [
    {
     "name": "stdout",
     "output_type": "stream",
     "text": [
      "10\n",
      "0\n",
      "1 0\n",
      "1\n",
      "0 1\n",
      "2\n",
      "1 1\n",
      "3\n",
      "1 2\n",
      "4\n",
      "2 3\n",
      "5\n",
      "3 5\n",
      "6\n",
      "5 8\n",
      "7\n",
      "8 13\n",
      "8\n",
      "13 21\n",
      "9\n",
      "21 34\n"
     ]
    }
   ],
   "source": [
    "# 요놈은 하양식이자너.. 그래서 상향식으로 바꿔서 계산값을 기억하는 것? 고놈이 동적계획법의 시작인듯하다.\n",
    "def fibonacci(t_list,n):\n",
    "    if n == 0:\n",
    "        t_list[0] += 1\n",
    "        return 0\n",
    "    elif n == 1:\n",
    "        t_list[1] += 1\n",
    "        return 1\n",
    "    else:\n",
    "        return fibonacci(t_list,n-1) + fibonacci(t_list,n-2)\n",
    "\n",
    "if __name__==\"__main__\":\n",
    "    test_case = int(input())\n",
    "    for case in range(test_case):\n",
    "        value = int(input())\n",
    "        t_list = [0,0]\n",
    "        fibonacci(t_list,value)\n",
    "        print(t_list[0],t_list[1]) \n",
    "        t_list = [0,0]"
   ]
  },
  {
   "cell_type": "markdown",
   "metadata": {},
   "source": [
    "# 사기먹음\n",
    "# 이게 무슨... \n",
    "# ...시간줄이려고 그냥 출력시키면 된느...\n",
    "# 규칙성 가지고 숫자 출력;;;"
   ]
  },
  {
   "cell_type": "code",
   "execution_count": 14,
   "metadata": {},
   "outputs": [
    {
     "name": "stdout",
     "output_type": "stream",
     "text": [
      "3\n",
      "3\n",
      "1 2\n",
      "5\n",
      "3 5\n",
      "20\n",
      "4181 6765\n"
     ]
    }
   ],
   "source": [
    "fibo_arr = [0, 1]\n",
    "def fiborun(num):\n",
    "    if num == 0:\n",
    "        print('1 0')\n",
    "    elif num == 1:\n",
    "        print('0 1')\n",
    "    else:\n",
    "        length = len(fibo_arr)\n",
    "        if length < num+1:\n",
    "            for i in range(length, num+1):\n",
    "                fibo_arr.append(fibo_arr[i-1]+fibo_arr[i-2])\n",
    "                \n",
    "        print('{} {}'.format(fibo_arr[num-1],fibo_arr[num]))\n",
    "\n",
    "inp = int(input())\n",
    "for _ in range(inp):\n",
    "    n = int(input())\n",
    "    fiborun(n)"
   ]
  },
  {
   "cell_type": "markdown",
   "metadata": {},
   "source": [
    "# RGB거리 문제 풀기\n",
    "인접한 두 집은 색이 같을 수 없음<br>\n",
    "첫째 줄에 집의 수 N이 주어진다. <br>\n",
    "N은 1,000보다 작거나 같다. 둘째 줄부터 N개의 줄에 각 집을 빨강으로 칠할 때, 초록으로 칠할 때, 파랑으로 칠할 때 드는 비용이 주어진다.<br>\n",
    "비용은 1,000보다 작거나 같은 자연수이다.<br>"
   ]
  },
  {
   "cell_type": "code",
   "execution_count": 40,
   "metadata": {},
   "outputs": [
    {
     "name": "stdout",
     "output_type": "stream",
     "text": [
      "3\n",
      "26 40 83\n",
      "49 60 57\n",
      "13 89 99\n",
      "[26, 40, 83]\n",
      "[49, 60, 57]\n",
      "[13, 89, 99]\n",
      "96\n"
     ]
    }
   ],
   "source": [
    "def min_price_calc(house_list):\n",
    "    result = 0\n",
    "    rows = len(house_list)\n",
    "    for i in range(rows):\n",
    "        print(house_list[i])\n",
    "        if i%2 ==0:\n",
    "            result += min(house_list[i])\n",
    "            select_point = house_list[i].index(min(house_list[i]))\n",
    "        else:\n",
    "            del house_list[i][select_point]\n",
    "            result += min(house_list[i])\n",
    "    return result\n",
    "    \n",
    "if __name__==\"__main__\":\n",
    "    house_n=int(input())\n",
    "    house_list = []\n",
    "    for i in range(house_n):\n",
    "        house_list.append(list(map(int,input().split())))\n",
    "    print(min_price_calc(house_list))"
   ]
  },
  {
   "cell_type": "markdown",
   "metadata": {},
   "source": [
    "# 출력 초과가 뜨는데... 내 기준에서는 결과가 나오므로 패스 ㅡㅡ"
   ]
  },
  {
   "cell_type": "markdown",
   "metadata": {},
   "source": [
    "        7  <br>\n",
    "      3   8  <br>\n",
    "    8   1   0  <br>\n",
    "\n",
    "위 그림은 크기가 3인 정수 삼각형의 한 모습이다.  <br>\n",
    "\n",
    "맨 위층 7부터 시작해서 아래에 있는 수 중 하나를 선택하여 아래층으로 내려올 때, 이제까지 선택된 수의 합이 최대가 되는 경로를 구하는 프로그램을 작성하라. 아래층에 있는 수는 현재 층에서 선택된 수의 대각선 왼쪽 또는 대각선 오른쪽에 있는 것 중에서만 선택할 수 있다.  <br>\n",
    "\n",
    "삼각형의 크기는 1 이상 500 이하이다. 삼각형을 이루고 있는 각 수는 모두 정수이며, 범위는 0 이상 9999 이하이다.  <br>"
   ]
  },
  {
   "cell_type": "code",
   "execution_count": 4,
   "metadata": {
    "scrolled": true
   },
   "outputs": [
    {
     "name": "stdout",
     "output_type": "stream",
     "text": [
      "5\n",
      "7\n",
      "3 8\n",
      "8 1 0\n",
      "2 7 4 4\n",
      "4 5 2 6 5\n",
      "30\n"
     ]
    }
   ],
   "source": [
    "def max_load(t_list):\n",
    "    result = 0\n",
    "    n = len(t_list)\n",
    "    for i in range(n-1,0,-1):\n",
    "        for j in range (0,i):\n",
    "            if t_list[i][j] > t_list[i][j+1]:\n",
    "                t_list[i-1][j] = t_list[i-1][j] + t_list[i][j]\n",
    "            else:\n",
    "                t_list[i-1][j] = t_list[i-1][j] + t_list[i][j+1]\n",
    "\n",
    "if __name__==\"__main__\":\n",
    "    value = int(input())\n",
    "    t_list = []\n",
    "    for i in range(value):\n",
    "        t_list.append(list(map(int,input().split())))\n",
    "    max_load(t_list)\n",
    "    print(t_list[0][0])"
   ]
  },
  {
   "cell_type": "markdown",
   "metadata": {},
   "source": [
    "# 아래에서 부터 둘중 큰 값을 위로 더해주면 됨!"
   ]
  }
 ],
 "metadata": {
  "kernelspec": {
   "display_name": "Python 3",
   "language": "python",
   "name": "python3"
  },
  "language_info": {
   "codemirror_mode": {
    "name": "ipython",
    "version": 3
   },
   "file_extension": ".py",
   "mimetype": "text/x-python",
   "name": "python",
   "nbconvert_exporter": "python",
   "pygments_lexer": "ipython3",
   "version": "3.7.1"
  }
 },
 "nbformat": 4,
 "nbformat_minor": 2
}
