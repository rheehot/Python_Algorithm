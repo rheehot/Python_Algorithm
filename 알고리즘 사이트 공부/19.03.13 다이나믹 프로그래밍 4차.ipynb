{
 "cells": [
  {
   "cell_type": "markdown",
   "metadata": {},
   "source": [
    "첫째 줄에는 테스트케이스의 개수 T가 주어진다. 각 테스트 케이스는 다음과 같이 주어진다. 첫째 줄에 건물의 개수 N 과 건물간의 건설순서규칙의 총 개수 K이 주어진다. (건물의 번호는 1번부터 N번까지 존재한다) <br>\n",
    "\n",
    "둘째 줄에는 각 건물당 건설에 걸리는 시간 D가 공백을 사이로 주어진다. 셋째 줄부터 K+2줄까지 건설순서 X Y가 주어진다. (이는 건물 X를 지은 다음에 건물 Y를 짓는 것이 가능하다는 의미이다) <br>\n",
    "\n",
    "마지막 줄에는 백준이가 승리하기 위해 건설해야 할 건물의 번호 W가 주어진다. (1 ≤ N ≤ 1000, 1 ≤ K ≤ 100000 , 1≤ X,Y,W ≤ N, 0 ≤ D ≤ 100000)<br>"
   ]
  },
  {
   "cell_type": "code",
   "execution_count": 17,
   "metadata": {},
   "outputs": [
    {
     "name": "stdout",
     "output_type": "stream",
     "text": [
      "2\n",
      "4 4\n",
      "10 100 1 10\n",
      "1 2\n",
      "1 3\n",
      "2 4\n",
      "3 4\n",
      "4\n",
      "4 3\n",
      "3 1\n",
      "[3, 2, 0]\n",
      "4 4\n",
      "10 1 100 10\n",
      "1 2\n",
      "1 3\n",
      "2 4\n",
      "3 4\n",
      "4\n",
      "4 3\n",
      "3 1\n",
      "[3, 2, 0]\n"
     ]
    }
   ],
   "source": [
    "if __name__==\"__main__\":\n",
    "    t_case = int(input())\n",
    "    for t in range(t_case):\n",
    "        # 테스트 케이스 만큼 동작을 함\n",
    "        result = []\n",
    "        building_n,build_rule_k = map(int,input().split())\n",
    "        build_time = list(map(int,input().split()))\n",
    "        build_list = []\n",
    "        for k in range(building_n):\n",
    "            build_list.append(list(map(int,input().split())))\n",
    "        win_building = int(input()) #win_building 의 값 보다 1 작은 위치에 위치함\n",
    "        for i in range(building_n-1,-1,-1):\n",
    "            if build_list[i][1] == win_building:\n",
    "                print(build_list[i][1],i)\n",
    "                result.append(build_list[i][1]-1)\n",
    "                win_building = build_list[i][0]\n",
    "            if win_building == 1 and build_list[i][0] == 1:\n",
    "                result.append(build_list[i][0]-1)\n",
    "                win_building = 0\n",
    "        print(result)  \n",
    "        #print(build_list)\n",
    "        #print(build_list[0][0])\n",
    "        #print(build_list[0][1])\n"
   ]
  },
  {
   "cell_type": "markdown",
   "metadata": {},
   "source": [
    "# 큰 값을 비교하는 기능을 넣던지, 여러 가지 값에 대해 여러개의 리스트를 만드는 기능을 넣어야 한다."
   ]
  }
 ],
 "metadata": {
  "kernelspec": {
   "display_name": "Python 3",
   "language": "python",
   "name": "python3"
  },
  "language_info": {
   "codemirror_mode": {
    "name": "ipython",
    "version": 3
   },
   "file_extension": ".py",
   "mimetype": "text/x-python",
   "name": "python",
   "nbconvert_exporter": "python",
   "pygments_lexer": "ipython3",
   "version": "3.7.1"
  }
 },
 "nbformat": 4,
 "nbformat_minor": 2
}
