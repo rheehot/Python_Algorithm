{
 "cells": [
  {
   "cell_type": "code",
   "execution_count": 2,
   "metadata": {},
   "outputs": [
    {
     "name": "stdout",
     "output_type": "stream",
     "text": [
      "5\n",
      "16 32 128 128 0\n",
      "32768\n",
      "131072\n"
     ]
    }
   ],
   "source": [
    "if __name__==\"__main__\":\n",
    "    file_n = int(input())\n",
    "    file_size = list(map(int,input().split()))\n",
    "    cluster_size = int(input())\n",
    "    count = 0\n",
    "    for i in range(file_n):\n",
    "        if file_size[i] % cluster_size == 0:\n",
    "            file_size[i] //= cluster_size\n",
    "        else:\n",
    "            file_size[i] = file_size[i] // cluster_size + 1\n",
    "        count += file_size[i]\n",
    "    print(cluster_size * count)"
   ]
  },
  {
   "cell_type": "code",
   "execution_count": 14,
   "metadata": {},
   "outputs": [
    {
     "name": "stdout",
     "output_type": "stream",
     "text": [
      "3\n",
      "61 61 61\n",
      "Y M 90\n"
     ]
    }
   ],
   "source": [
    "if __name__==\"__main__\":\n",
    "    call_n = int(input())\n",
    "    call_list = list(map(int,input().split()))\n",
    "    Y, M = 0, 0\n",
    "    for i in range(call_n):\n",
    "        Y += (call_list[i] // 30 + 1) * 10\n",
    "        M += (call_list[i] // 60 + 1) * 15\n",
    "    if Y < M:\n",
    "        print(\"Y\",Y)\n",
    "    elif Y == M:\n",
    "        print(\"Y M\",Y)\n",
    "    else:\n",
    "        print(\"M\",M)"
   ]
  },
  {
   "cell_type": "code",
   "execution_count": null,
   "metadata": {},
   "outputs": [],
   "source": []
  }
 ],
 "metadata": {
  "kernelspec": {
   "display_name": "Python 3",
   "language": "python",
   "name": "python3"
  },
  "language_info": {
   "codemirror_mode": {
    "name": "ipython",
    "version": 3
   },
   "file_extension": ".py",
   "mimetype": "text/x-python",
   "name": "python",
   "nbconvert_exporter": "python",
   "pygments_lexer": "ipython3",
   "version": "3.7.1"
  }
 },
 "nbformat": 4,
 "nbformat_minor": 2
}
