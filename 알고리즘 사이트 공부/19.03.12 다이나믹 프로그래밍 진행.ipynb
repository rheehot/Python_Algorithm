{
 "cells": [
  {
   "cell_type": "markdown",
   "metadata": {},
   "source": [
    "정수 4를 1, 2, 3의 합으로 나타내는 방법은 총 7가지가 있다. 합을 나타낼 때는 수를 1개 이상 사용해야 한다.<br>\n",
    "\n",
    "1+1+1+1 <br>\n",
    "1+1+2 <br>\n",
    "1+2+1 <br>\n",
    "2+1+1 <br>\n",
    "2+2 <br>\n",
    "1+3 <br>\n",
    "3+1 <br>\n",
    "정수 n이 주어졌을 때, n을 1, 2, 3의 합으로 나타내는 방법의 수를 구하는 프로그램을 작성하시오.<br>"
   ]
  },
  {
   "cell_type": "code",
   "execution_count": 13,
   "metadata": {
    "scrolled": true
   },
   "outputs": [
    {
     "name": "stdout",
     "output_type": "stream",
     "text": [
      "10\n",
      "[1, 1, 1, 1, 1, 1, 1, 1, 1, 1]\n",
      "10\n"
     ]
    }
   ],
   "source": [
    "if __name__ == \"__main__\":\n",
    "    n = int(input())\n",
    "    n_list = [1] * n\n",
    "    r_list = []\n",
    "    print(n_list)\n",
    "    print(sum(n_list))\n",
    "    for i in range(n):\n",
    "        "
   ]
  },
  {
   "cell_type": "markdown",
   "metadata": {},
   "source": [
    "# 진행 중인 방법\n",
    "\n",
    "우선 n개만큼 1을 더하는 방법이 있고 그 경우의 항이 제일 많다. 따라서 그 조건부터 차례차례 줄여 갈 것이다.<br>\n",
    "제일 뒤의 값을 1,2,3 돌리고 0으로 변경해 준다. 각 경우마다 sum을 실시해 num 의 값을 만족 하는지 따진다. <br>\n",
    "모든 경우가 끝난 뒤 카운팅한 갯수를 출력한다 <br>"
   ]
  }
 ],
 "metadata": {
  "kernelspec": {
   "display_name": "Python 3",
   "language": "python",
   "name": "python3"
  },
  "language_info": {
   "codemirror_mode": {
    "name": "ipython",
    "version": 3
   },
   "file_extension": ".py",
   "mimetype": "text/x-python",
   "name": "python",
   "nbconvert_exporter": "python",
   "pygments_lexer": "ipython3",
   "version": "3.7.1"
  }
 },
 "nbformat": 4,
 "nbformat_minor": 2
}
