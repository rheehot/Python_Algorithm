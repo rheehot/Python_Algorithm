{
 "cells": [
  {
   "cell_type": "markdown",
   "metadata": {},
   "source": [
    "정수 4를 1, 2, 3의 합으로 나타내는 방법은 총 7가지가 있다. 합을 나타낼 때는 수를 1개 이상 사용해야 한다.<br>\n",
    "\n",
    "1+1+1+1 <br>\n",
    "1+1+2 <br>\n",
    "1+2+1 <br>\n",
    "2+1+1 <br>\n",
    "2+2 <br>\n",
    "1+3 <br>\n",
    "3+1 <br>\n",
    "정수 n이 주어졌을 때, n을 1, 2, 3의 합으로 나타내는 방법의 수를 구하는 프로그램을 작성하시오.<br>"
   ]
  },
  {
   "cell_type": "code",
   "execution_count": 9,
   "metadata": {
    "scrolled": true
   },
   "outputs": [
    {
     "name": "stdout",
     "output_type": "stream",
     "text": [
      "4\n",
      "4 [1, 1, 1, 1]\n",
      "4 [0, 2, 1, 1]\n",
      "4 [0, 0, 3, 1]\n",
      "[[1, 1, 1, 1], [2, 1, 1], [3, 1]]\n"
     ]
    }
   ],
   "source": [
    "if __name__ == \"__main__\":\n",
    "    count = 0\n",
    "    n = int(input())\n",
    "    n_list = [1] * n\n",
    "    r_list = []\n",
    "    for i in range(n):\n",
    "        for j in range(1,4):\n",
    "            n_list[i]=j\n",
    "            if sum(n_list)==n:\n",
    "                print(n,n_list)\n",
    "                r_list.append(list(i for i in n_list[:] if i != 0 ))\n",
    "            if j == 3:\n",
    "                n_list[i]=0\n",
    "    print(r_list)"
   ]
  },
  {
   "cell_type": "markdown",
   "metadata": {},
   "source": [
    "# 진행 중인 방법\n",
    "\n",
    "우선 n개만큼 1을 더하는 방법이 있고 그 경우의 항이 제일 많다. 따라서 그 조건부터 차례차례 줄여 갈 것이다.<br>\n",
    "제일 뒤의 값을 1,2,3 돌리고 0으로 변경해 준다. 각 경우마다 sum을 실시해 num 의 값을 만족 하는지 따진다. <br>\n",
    "모든 경우가 끝난 뒤 카운팅한 갯수를 출력한다 <br>\n",
    "\n",
    "# 발생 한 문제점\n",
    "\n",
    "초기 항 부터 차근차근 넘어 갈 시 해당 패턴을 가지고 있는 전체의 경우의 수가 나오지 않는다.<br>\n",
    "\n",
    "# 해결 방안\n",
    "\n",
    "카운팅 될 때의 경우의 수를 모두 리스트에 넣는다."
   ]
  },
  {
   "cell_type": "markdown",
   "metadata": {},
   "source": [
    "# 추가 발생 한 문제점\n",
    "3까지만 돌리기 때문에 뒤의 나머지 값으로 아무리 더해도 1로 고정되어 있기 때문에 합한 결과 값을 알 수 없다. <br>\n",
    "뒤에 1의 갯수가 여유있는 경우에만 더해지니까 이 문제는 거꾸로 해도 똑같다. 따라서 3일때 안되면 앞의 수를 바꾸어서 되면 되게끔 바꾸어야한다. <br>\n",
    "따라서 if j == 3 부분에 추가적으로 들어가야 할 것 같다. <br>"
   ]
  },
  {
   "cell_type": "code",
   "execution_count": 11,
   "metadata": {},
   "outputs": [
    {
     "name": "stdout",
     "output_type": "stream",
     "text": [
      "3\n",
      "1\n"
     ]
    }
   ],
   "source": [
    "if __name__ == \"__main__\":\n",
    "    count = 0\n",
    "    count2 = 0\n",
    "    n = int(input())\n",
    "    n_list = [1] * n\n",
    "    r_list = []\n",
    "    for i in range(n-1,-1,-1):\n",
    "        for j in range(1,4):\n",
    "            n_list[i]=j\n",
    "            r_list.append(list(i for i in n_list[:] if i != 0 ))\n",
    "            count += 1\n",
    "    for i in range(count):\n",
    "        if sum(r_list[i]) == n:\n",
    "            count2 += 1\n",
    "            \n",
    "    print(count2)"
   ]
  },
  {
   "cell_type": "markdown",
   "metadata": {},
   "source": [
    "# 1 1 1 , 1 1 2  1 1 3 , 1 2 2 , 1 2 3 , 1 3 3 , 2 3 3 , 3 3 3\n",
    "- 전체 모든 경우의 수를 반영하지 못한다.\n",
    "- 그치만 위의 상황은...더 적은 경우의 수를 반영하지 못한다."
   ]
  },
  {
   "cell_type": "code",
   "execution_count": 79,
   "metadata": {},
   "outputs": [
    {
     "name": "stdout",
     "output_type": "stream",
     "text": [
      "3\n",
      "[1, 1, 1]\n",
      "[1, 2]\n",
      "[3]\n"
     ]
    },
    {
     "ename": "TypeError",
     "evalue": "unhashable type: 'list'",
     "output_type": "error",
     "traceback": [
      "\u001b[1;31m---------------------------------------------------------------------------\u001b[0m",
      "\u001b[1;31mTypeError\u001b[0m                                 Traceback (most recent call last)",
      "\u001b[1;32m<ipython-input-79-3356033e76a8>\u001b[0m in \u001b[0;36m<module>\u001b[1;34m\u001b[0m\n\u001b[0;32m     19\u001b[0m             \u001b[0mprint\u001b[0m\u001b[1;33m(\u001b[0m\u001b[0mr_list\u001b[0m\u001b[1;33m[\u001b[0m\u001b[0mi\u001b[0m\u001b[1;33m]\u001b[0m\u001b[1;33m)\u001b[0m\u001b[1;33m\u001b[0m\u001b[1;33m\u001b[0m\u001b[0m\n\u001b[0;32m     20\u001b[0m \u001b[1;33m\u001b[0m\u001b[0m\n\u001b[1;32m---> 21\u001b[1;33m     \u001b[0mprint\u001b[0m\u001b[1;33m(\u001b[0m\u001b[0mset\u001b[0m\u001b[1;33m(\u001b[0m\u001b[0mr_list\u001b[0m\u001b[1;33m)\u001b[0m\u001b[1;33m)\u001b[0m\u001b[1;33m\u001b[0m\u001b[1;33m\u001b[0m\u001b[0m\n\u001b[0m\u001b[0;32m     22\u001b[0m     \u001b[1;31m#print(count)\u001b[0m\u001b[1;33m\u001b[0m\u001b[1;33m\u001b[0m\u001b[1;33m\u001b[0m\u001b[0m\n",
      "\u001b[1;31mTypeError\u001b[0m: unhashable type: 'list'"
     ]
    }
   ],
   "source": [
    "import math\n",
    "\n",
    "def f(r_list,num):\n",
    "    n_list = [1] * num\n",
    "    for i in range(num-1,-1,-1):\n",
    "        for j in range(1,4):\n",
    "            n_list[i]=j\n",
    "            r_list.append(list(i for i in n_list[:] if i != 0 ))\n",
    "    \n",
    "if __name__==\"__main__\":\n",
    "    r_list = []\n",
    "    count = 0\n",
    "    n = int(input())\n",
    "    for i in range(n,math.ceil(n//2)-1,-1):\n",
    "        f(r_list,i)\n",
    "    for i in range(len(r_list)):\n",
    "        if sum(r_list[i])==n:\n",
    "            count += 1\n",
    "            print(r_list[i])\n",
    "    # ah... 이것도 아니네\n",
    "    #print(count)"
   ]
  },
  {
   "cell_type": "markdown",
   "metadata": {},
   "source": [
    "# 어떻게 해야할까 ..."
   ]
  }
 ],
 "metadata": {
  "kernelspec": {
   "display_name": "Python 3",
   "language": "python",
   "name": "python3"
  },
  "language_info": {
   "codemirror_mode": {
    "name": "ipython",
    "version": 3
   },
   "file_extension": ".py",
   "mimetype": "text/x-python",
   "name": "python",
   "nbconvert_exporter": "python",
   "pygments_lexer": "ipython3",
   "version": "3.7.1"
  }
 },
 "nbformat": 4,
 "nbformat_minor": 2
}
