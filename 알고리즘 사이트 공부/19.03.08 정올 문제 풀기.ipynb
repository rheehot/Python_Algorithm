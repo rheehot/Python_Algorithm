{
 "cells": [
  {
   "cell_type": "markdown",
   "metadata": {},
   "source": [
    "K리그가 한창 진행중이다. <br>\n",
    "규칙에 따르면 경기에서 이긴 팀은 3점을 얻고 비기면 1을 지면 0점을 받는다.<br>\n",
    "<br>\n",
    "현재 팀들의 점수와 전체 치뤄진 경기의 수가 입력되면 현재까지 비긴 경기의 개수를 찾아라.<br>\n",
    "<br>\n",
    "입력의 첫 번째 줄에는 각각 팀의 수(0≤T≤200)와 경기의 수(0≤N≤10,000)가 입력된다.<br>\n",
    "다음 T줄에 걸쳐 팀 이름과 (10글자 이하의 문자열) 그 팀이 얻은 포인트가 입력된다.<br>\n",
    "<br>\n",
    "현재까지 비긴 경기의 수를 출력한다.\n",
    "<br>\n",
    "3 3<br>\n",
    "Suwon 5<br>\n",
    "Seoul 1<br>\n",
    "Cheju 1<br>"
   ]
  },
  {
   "cell_type": "code",
   "execution_count": 12,
   "metadata": {},
   "outputs": [
    {
     "name": "stdout",
     "output_type": "stream",
     "text": [
      "3 3\n",
      "s 5\n",
      "s 1\n",
      "c 1\n",
      "2\n"
     ]
    }
   ],
   "source": [
    "def draw_game(total_score,game_n):\n",
    "    # win 3, draw 1,1 =2점\n",
    "    for i in range(game_n):\n",
    "        if 3*i +2*(game_n-i)==total_score:\n",
    "            return game_n-i\n",
    "        \n",
    "if __name__ == \"__main__\":\n",
    "    team_n, game_n = map(int,input().split())\n",
    "    game_list = []\n",
    "    total_score = 0\n",
    "    for i in range(team_n):\n",
    "        game_list.append(input().split())\n",
    "        game_list[i][1]= int(game_list[i][1])\n",
    "        total_score += game_list[i][1]\n",
    "    print(draw_game(total_score,game_n))"
   ]
  }
 ],
 "metadata": {
  "kernelspec": {
   "display_name": "Python 3",
   "language": "python",
   "name": "python3"
  },
  "language_info": {
   "codemirror_mode": {
    "name": "ipython",
    "version": 3
   },
   "file_extension": ".py",
   "mimetype": "text/x-python",
   "name": "python",
   "nbconvert_exporter": "python",
   "pygments_lexer": "ipython3",
   "version": "3.7.1"
  }
 },
 "nbformat": 4,
 "nbformat_minor": 2
}
