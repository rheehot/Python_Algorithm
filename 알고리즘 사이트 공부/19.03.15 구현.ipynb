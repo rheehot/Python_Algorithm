{
 "cells": [
  {
   "cell_type": "markdown",
   "metadata": {},
   "source": [
    "19세기 독일 수학자 헤르만 민코프스키는 비유클리드 기하학 중 택시 기하학을 고안했다. <br>\n",
    "\n",
    "택시 기하학에서 두 점 T1(x1,y1), T2(x2,y2) 사이의 거리는 다음과 같이 구할 수 있다. <br>\n",
    " \n",
    "D(T1,T2) = |x1-x2| + |y1-y2| <br>\n",
    "\n",
    "두 점 사이의 거리를 제외한 나머지 정의는 유클리드 기하학에서의 정의와 같다. <br>\n",
    "\n",
    "따라서 택시 기하학에서 원의 정의는 유클리드 기하학에서 원의 정의와 같다. <br>\n",
    "\n",
    "원: 평면 상의 어떤 점에서 거리가 일정한 점들의 집합 <br>\n",
    "\n",
    "반지름 R이 주어졌을 때, 유클리드 기하학에서 원의 넓이와, 택시 기하학에서 원의 넓이를 구하는 프로그램을 작성하시오. <br>"
   ]
  },
  {
   "cell_type": "code",
   "execution_count": 25,
   "metadata": {},
   "outputs": [
    {
     "name": "stdout",
     "output_type": "stream",
     "text": [
      "1\n",
      "3.141593\n",
      "2.000000\n"
     ]
    }
   ],
   "source": [
    "import math\n",
    "\n",
    "if __name__==\"__main__\":\n",
    "    r = int(input())\n",
    "    print(\"{0:.6f}\".format(round(r*r*math.pi,6)))\n",
    "    print(\"{0:.6f}\".format(round(r*r*2,6)))"
   ]
  },
  {
   "cell_type": "code",
   "execution_count": null,
   "metadata": {},
   "outputs": [],
   "source": [
    "import math\n",
    "\n",
    "if __name__==\"__main__\":\n",
    "    r1 , c1 , r2 , c2 = map(int,input().split())\n",
    "    a = []\n",
    "    for i in range(r1*(-2)+1):\n",
    "        b = []\n",
    "        for j in range(c1*(-2)+1):\n",
    "            b.append(0)\n",
    "        a.append(b)\n",
    "    # 2차원 리스트 출력해서 확인용\n",
    "    #print(a)\n",
    "    #a[3][3]=1\n",
    "    #print(a)\n",
    "    print(a)\n",
    "    a_size = (r1*(-2)+1)*(c1*(-2)+1)\n",
    "    print(a_size)\n",
    "    print(abs(r1),abs(c1))\n",
    "    # 3,3 센터 위치\n",
    "    y_pos = abs(r1) \n",
    "    x_pos = abs(c1)\n",
    "    x_count = 1\n",
    "    y_count = 1\n",
    "    for i in range(a_size):\n",
    "        a[y_pos][x_pos]=i+1\n",
    "        for x in range(1,abs(int(math.pow(-1,i))*x_count)+1):\n",
    "            if math.pow(-1,i)*x_count < 0:\n",
    "                a[y_pos][x_pos-x] = i\n",
    "                i += 1\n",
    "            else:\n",
    "                a[y_pos][x_pos+x] = i\n",
    "                i += 1\n",
    "        print(a)\n",
    "        x_count += 1\n",
    "        # 보류..\n"
   ]
  },
  {
   "cell_type": "raw",
   "metadata": {},
   "source": [
    "    -3 -2 -1  0  1  2  3\n",
    "    --------------------\n",
    "-3 |37 36 35 34 33 32 31\n",
    "-2 |38 17 16 15 14 13 30\n",
    "-1 |39 18  5  4  3 12 29\n",
    " 0 |40 19  6  1  2 11 28\n",
    " 1 |41 20  7  8  9 10 27\n",
    " 2 |42 21 22 23 24 25 26\n",
    " 3 |43 44 45 46 47 48 49"
   ]
  }
 ],
 "metadata": {
  "kernelspec": {
   "display_name": "Python 3",
   "language": "python",
   "name": "python3"
  },
  "language_info": {
   "codemirror_mode": {
    "name": "ipython",
    "version": 3
   },
   "file_extension": ".py",
   "mimetype": "text/x-python",
   "name": "python",
   "nbconvert_exporter": "python",
   "pygments_lexer": "ipython3",
   "version": "3.7.1"
  }
 },
 "nbformat": 4,
 "nbformat_minor": 2
}
