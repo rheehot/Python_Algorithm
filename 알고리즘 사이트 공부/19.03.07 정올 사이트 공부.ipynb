{
 "cells": [
  {
   "cell_type": "markdown",
   "metadata": {},
   "source": [
    "점심시간이 되면 반 학생 모두가 한 줄로 줄을 서서 급식을 탄다. 그런데 매일 같이 앞자리에 앉은 학생들이 앞에 줄을 서 먼저 점심을 먹고 뒷자리에 앉은 학생들은 뒤에 줄을 서 늦게 점심을 먹게 된다. 어떻게 하면 이러한 상황을 바꾸어 볼 수 있을까 고민하던 중 선생님이 한 가지 방법을 내 놓았다. 그 방법은 다음과 같다.\n",
    "\n",
    "학생들이 한 줄로 줄을 선 후 첫 번째 학생부터 차례​로 번호를 뽑는다.​\n",
    "첫 번째로 줄을 선 학생은 무조건 0번 번호를 받아 제일 앞에 줄을 선다.\n",
    "두 번째로 줄을 선 학생은 0번 또는 1번 둘 중 하나의 번호를 뽑는다. 0번을 뽑으면 그 자리에 그대로 있고 1번을 뽑으면 바로 앞의 학생 앞으로 가서 줄을 선다.\n",
    "세 번째로 줄을 선 학생은 0 1 또는 2 중 하나의 번호를 뽑는다. 그리고 뽑은 번호만큼 앞자리로 가서 줄을 선다.\n",
    "마지막에 줄을 선 학생까지 이와 같은 방식으로 뽑은 번호만큼 앞으로 가서 줄을 서게 된다.\n",
    "각자 뽑은 번호는 자신이 처음에 선 순서보다는 작은 수이다.\n",
    " \n",
    "\n",
    "예를 들어 5명의 학생이 줄을 서고 첫 번째로 줄을 선 학생부터 다섯 번째로 줄을 선 학생까지 차례로 0 1 1 3 2번의 번호를 뽑았다고 하자 첫 번째 학생부터 다섯 번째 학생까지 1부터 5로 표시하면 학생들이 줄을 선 순서는 다음과 같이 된다.\n",
    "\n",
    "첫 번째 학생이 번호를 뽑은 후 : 1 <br>\n",
    "두 번째 학생이 번호를 뽑은 후 : 2 1<br>\n",
    "세 번째 학생이 번호를 뽑은 후 : 2 3 1<br>\n",
    "네 번째 학생이 번호를 뽑은 후 : 4 2 3 1<br>\n",
    "다섯 번째 학생이 번호를 뽑은 후 : 4 2 5 3 1<br>\n",
    "따라서 최종적으로 학생들이 줄을 선 순서는 4 2 5 3 1이 된다.<br>\n",
    "줄을 선 학생들이 차례로 뽑은 번호가 주어질 때 학생들이 최종적으로 줄을 선 순서를 출력하는 프로그램을 작성하시오. <br>"
   ]
  },
  {
   "cell_type": "markdown",
   "metadata": {},
   "source": [
    "입력<br>\n",
    "5<br>\n",
    "0 1 1 3 2<br>\n",
    "출력<br>\n",
    "4 2 5 3 1<br>"
   ]
  },
  {
   "cell_type": "code",
   "execution_count": 17,
   "metadata": {},
   "outputs": [
    {
     "name": "stdout",
     "output_type": "stream",
     "text": [
      "5\n",
      "0 1 1 3 2\n",
      "[4, 2, 5, 3, 1]\n"
     ]
    }
   ],
   "source": [
    "people_count = int(input())\n",
    "\n",
    "people_list = []\n",
    "input_list = list(map(int,input().split()))\n",
    "for i in range(people_count):\n",
    "    people_list.insert(input_list[i],i+1)\n",
    "\n",
    "people_list.reverse()\n",
    "print(people_list)"
   ]
  },
  {
   "cell_type": "markdown",
   "metadata": {},
   "source": [
    "첫 번째 줄에는 도시락의 수 n(1부터 100사이의 정수)이 입력되고 다음 줄부터 n개의 줄에는 각 도시락의 가격(1,000부터 4,000사이의 정수)들을 입력받는다.</br>\n",
    "하나의 결과가 출력되면 프로그램을 종료한다.데이터의 크기가 주어진 범위를 벗어나는 데이터는 입력되지 않는다.<br>"
   ]
  },
  {
   "cell_type": "code",
   "execution_count": 25,
   "metadata": {},
   "outputs": [
    {
     "name": "stdout",
     "output_type": "stream",
     "text": [
      "3\n",
      "1500\n",
      "2000\n",
      "2500\n",
      "6000\n",
      "2000\n",
      "408.2\n"
     ]
    }
   ],
   "source": [
    "import math\n",
    "\n",
    "def main():\n",
    "    n = int(input())\n",
    "    if n<1 or n>100:\n",
    "        return\n",
    "    food_package = []\n",
    "    for i in range(n):\n",
    "        food_package.append(int(input()))\n",
    "        if food_package[i] <1000 or food_package[i] >4000:\n",
    "            return\n",
    "\n",
    "    food_package_sum = sum(food_package)\n",
    "    food_package_avg = food_package_sum / n\n",
    "\n",
    "    food_package_S = 0\n",
    "    for i in range(len(food_package)):\n",
    "         food_package_S += math.pow(food_package[i]-food_package_avg,2)/n\n",
    "    food_package_S = math.sqrt(food_package_S)\n",
    "    print(food_package_sum)\n",
    "    print(round(food_package_avg))\n",
    "    print(round(food_package_S,1))\n",
    "\n",
    "main()"
   ]
  }
 ],
 "metadata": {
  "kernelspec": {
   "display_name": "Python 3",
   "language": "python",
   "name": "python3"
  },
  "language_info": {
   "codemirror_mode": {
    "name": "ipython",
    "version": 3
   },
   "file_extension": ".py",
   "mimetype": "text/x-python",
   "name": "python",
   "nbconvert_exporter": "python",
   "pygments_lexer": "ipython3",
   "version": "3.7.1"
  }
 },
 "nbformat": 4,
 "nbformat_minor": 2
}
