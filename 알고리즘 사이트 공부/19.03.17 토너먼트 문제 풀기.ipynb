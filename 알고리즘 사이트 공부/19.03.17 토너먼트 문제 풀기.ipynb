{
 "cells": [
  {
   "cell_type": "markdown",
   "metadata": {},
   "source": [
    "김지민은 N명이 참가하는 스타 토너먼트에 진출했다. 토너먼트는 다음과 같이 진행된다. 일단 N명의 참가자는 번호가 1번부터 N번까지 배정받는다.<br> 그러고 난 후에 서로 인접한 번호끼리 스타를 한다. 이긴 사람은 다음 라운드에 진출하고, 진 사람은 그 라운드에서 떨어진다. 만약 그 라운드의 참가자가 홀수명이라면, 마지막 번호를 가진 참가자는 다음 라운드로 자동 진출한다. <br>다음 라운드에선 다시 참가자의 번호를 1번부터 매긴다. 이때, 번호를 매기는 순서는 처음 번호의 순서를 유지하면서 1번부터 매긴다. 이 말은 1번과 2번이 스타를 해서 1번이 진출하고, 3번과 4번이 스타를 해서 4번이 진출했다면, 4번은 다음 라운드에서 번호 2번을 배정받는다. 번호를 다시 배정받은 후에 한 명만 남을 때까지 라운드를 계속 한다.<br>\n",
    "<br>\n",
    "마침 이 스타 대회에 임한수도 참가했다.<br> \n",
    "김지민은 갑자기 스타 대회에서 우승하는 욕심은 없어지고, 몇 라운드에서 임한수와 대결하는지 궁금해졌다.<br> \n",
    "일단 김지민과 임한수는 서로 대결하기 전까지 항상 이긴다고 가정한다.<br>\n",
    "1 라운드에서 김지민의 번호와 임한수의 번호가 주어질 때, 과연 김지민과 임한수가 몇 라운드에서 대결하는지 출력하는 프로그램을 작성하시오.<br>\n",
    "<br>\n",
    "첫째 줄에 참가자의 수 N과 1 라운드에서 김지민의 번호와 임한수의 번호가 순서대로 주어진다.<br>\n",
    "N은 100,000보다 작거나 같은 자연수이고, 김지민의 번호와 임한수의 번호는 N보다 작거나 같은 자연수이고, 서로 다르다.<br>\n",
    "<br>\n",
    "첫째 줄에 김지민과 임한수가 대결하는 라운드 번호를 출력한다. 만약 서로 대결하지 않을 때는 -1을 출력한다.<br>"
   ]
  },
  {
   "cell_type": "code",
   "execution_count": 9,
   "metadata": {},
   "outputs": [
    {
     "name": "stdout",
     "output_type": "stream",
     "text": [
      "16 8 9\n",
      "4\n"
     ]
    }
   ],
   "source": [
    "def round_calc(round_n):\n",
    "    count = 0\n",
    "    while round_n != 1:\n",
    "        round_n /= 2\n",
    "        count += 1\n",
    "    return count\n",
    "\n",
    "if __name__==\"__main__\":\n",
    "    n, kim_n, im_n = map(int,input().split())\n",
    "    people_list = [0]*n\n",
    "    people_list[kim_n-1] = 1\n",
    "    people_list[im_n-1] = 1\n",
    "    temp_list = []\n",
    "    game_list = []\n",
    "    round_n = round_calc(n)\n",
    "    count = 0\n",
    "    for i in range(round_n):\n",
    "        for j in range(0,len(people_list)-1,2):\n",
    "            if people_list[j] == people_list[j+1]:\n",
    "                if people_list[j] == 0:\n",
    "                    temp_list.append(people_list[j])\n",
    "                else:\n",
    "                    print(i+1)\n",
    "            else:\n",
    "                if people_list[j] == 1:\n",
    "                    temp_list.append(people_list[j])\n",
    "                else:\n",
    "                    temp_list.append(people_list[j+1])\n",
    "        game_list.append(temp_list)\n",
    "        people_list =  game_list[i]\n",
    "        temp_list=[]"
   ]
  },
  {
   "cell_type": "markdown",
   "metadata": {},
   "source": [
    "# 어김없이 시간초과.. 구현이 문제가 아닌 것 같다."
   ]
  }
 ],
 "metadata": {
  "kernelspec": {
   "display_name": "Python 3",
   "language": "python",
   "name": "python3"
  },
  "language_info": {
   "codemirror_mode": {
    "name": "ipython",
    "version": 3
   },
   "file_extension": ".py",
   "mimetype": "text/x-python",
   "name": "python",
   "nbconvert_exporter": "python",
   "pygments_lexer": "ipython3",
   "version": "3.7.1"
  }
 },
 "nbformat": 4,
 "nbformat_minor": 2
}
