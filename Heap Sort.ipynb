{
 "cells": [
  {
   "cell_type": "markdown",
   "metadata": {},
   "source": [
    "힙 정렬이란 이진트리를 힙 상태로 만들어 주고,...? 그 뒤로 루트 인덱스 값을 제일 큰값 혹은 제일 작은 값순으로 비교하면서 바꾸어 주는 형태.\n",
    "퀵 정렬 정도의 속도를 자랑한다고함.."
   ]
  },
  {
   "cell_type": "code",
   "execution_count": 19,
   "metadata": {},
   "outputs": [
    {
     "name": "stdout",
     "output_type": "stream",
     "text": [
      "[1, 2, 3, 4, 5, 6, 7, 8, 9, 10]\n"
     ]
    }
   ],
   "source": [
    "\n",
    "def heapify(unsorted_list,list_index,heap_size):\n",
    "    largest=list_index\n",
    "    left_index = 2 * list_index + 1\n",
    "    right_index = 2 * list_index + 2\n",
    "    if left_index < heap_size and unsorted_list[left_index] > unsorted_list[largest]:\n",
    "        largest=left_index\n",
    "    if right_index < heap_size and unsorted_list[right_index] > unsorted_list[largest]:\n",
    "        largest=right_index\n",
    "    if largest!=list_index:\n",
    "        unsorted_list[largest], unsorted_list[list_index] = unsorted_list[list_index], unsorted_list[largest]\n",
    "        heapify(unsorted_list, largest, heap_size)\n",
    "        \n",
    "def heap_sort(unsorted_list):\n",
    "    n = len(unsorted_list)\n",
    "    for i in range(n // 2 -1 , -1, -1):\n",
    "        heapify(unsorted_list,i,n)\n",
    "    for i in range(n-1,0,-1):\n",
    "        unsorted_list[0],unsorted_list[i] = unsorted_list[i],unsorted_list[0]\n",
    "        heapify(unsorted_list,0,i)\n",
    "    return unsorted_list;\n",
    "\n",
    "d = [9,10,1,2,5,8,7,6,4,3]\n",
    "d = heap_sort(d)\n",
    "print(d)"
   ]
  },
  {
   "cell_type": "code",
   "execution_count": 6,
   "metadata": {},
   "outputs": [
    {
     "name": "stdout",
     "output_type": "stream",
     "text": [
      "test 결과\n",
      "10\n",
      "9\n",
      "8\n",
      "7\n",
      "6\n",
      "5\n",
      "4\n",
      "3\n",
      "2\n",
      "1\n",
      "0\n",
      "test2 결과\n",
      "0\n",
      "1\n",
      "2\n",
      "3\n",
      "4\n",
      "5\n",
      "6\n",
      "7\n",
      "8\n",
      "9\n",
      "test3 결과\n",
      "10\n",
      "9\n",
      "8\n",
      "7\n",
      "6\n",
      "5\n",
      "4\n",
      "3\n",
      "2\n",
      "1\n"
     ]
    }
   ],
   "source": [
    "def test(n):\n",
    "    for i in range(n,-1,-1):\n",
    "        print(i)\n",
    "\n",
    "def test_2(n):\n",
    "    for i in range(n,-1):\n",
    "        print(i)\n",
    "\n",
    "# 추측 : range (시작점, 끝점, 간격)        \n",
    "def test_3(n):\n",
    "    for i in range(n,0,-1):\n",
    "        print(i)\n",
    "\n",
    "        \n",
    "print(\"test 결과\")\n",
    "test(10)\n",
    "print(\"test2 결과\")\n",
    "test_2(10)\n",
    "print(\"test3 결과\")\n",
    "test_3(10)"
   ]
  }
 ],
 "metadata": {
  "kernelspec": {
   "display_name": "Python 3",
   "language": "python",
   "name": "python3"
  },
  "language_info": {
   "codemirror_mode": {
    "name": "ipython",
    "version": 3
   },
   "file_extension": ".py",
   "mimetype": "text/x-python",
   "name": "python",
   "nbconvert_exporter": "python",
   "pygments_lexer": "ipython3",
   "version": "3.7.1"
  }
 },
 "nbformat": 4,
 "nbformat_minor": 2
}
