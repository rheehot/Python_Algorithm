{
 "cells": [
  {
   "cell_type": "markdown",
   "metadata": {},
   "source": [
    "힙 정렬이란 이진트리를 힙 상태로 만들어 주고,...? 그 뒤로 루트 인덱스 값을 제일 큰값 혹은 제일 작은 값순으로 비교하면서 바꾸어 주는 형태.\n",
    "퀵 정렬 정도의 속도를 자랑한다고함.."
   ]
  },
  {
   "cell_type": "code",
   "execution_count": null,
   "metadata": {},
   "outputs": [],
   "source": [
    "def heapify(unsorted, index, heap_size):\n",
    "    largest = index\n",
    "    left_index = 2 * index + 1\n",
    "    right_index = 2 * index + 2\n",
    "    if left_index < heap_size and unsorted[left_index] > unsorted[largest]:\n",
    "        largest = left_index\n",
    "    if right_index < heap_size and unsorted[right_index] > unsorted[largest]:\n",
    "        largest = right_index\n",
    "    if largest != index:\n",
    "        unsorted[largest], unsorted[index] = unsorted[index], unsorted[largest]\n",
    "        heapify(unsorted, largest, heap_size)\n",
    "        \n",
    "# 파이썬 연산 중 // 연산은 좌항을 우항으로 나눈 이후 정수의 값만 주는 것\n",
    "def heap_sort(unsorted):\n",
    "    n = len(unsorted)\n",
    "    for i in range(n // 2 - 1, -1, -1):\n",
    "        heapify(unsorted, i, n)\n",
    "    for i in range(n - 1, 0, -1):\n",
    "        unsorted[0], unsorted[i] = unsorted[i], unsorted[0]\n",
    "        heapify(unsorted, 0, i)\n",
    "    return unsorted"
   ]
  },
  {
   "cell_type": "code",
   "execution_count": 6,
   "metadata": {},
   "outputs": [
    {
     "name": "stdout",
     "output_type": "stream",
     "text": [
      "test 결과\n",
      "10\n",
      "9\n",
      "8\n",
      "7\n",
      "6\n",
      "5\n",
      "4\n",
      "3\n",
      "2\n",
      "1\n",
      "0\n",
      "test2 결과\n",
      "0\n",
      "1\n",
      "2\n",
      "3\n",
      "4\n",
      "5\n",
      "6\n",
      "7\n",
      "8\n",
      "9\n",
      "test3 결과\n",
      "10\n",
      "9\n",
      "8\n",
      "7\n",
      "6\n",
      "5\n",
      "4\n",
      "3\n",
      "2\n",
      "1\n"
     ]
    }
   ],
   "source": [
    "def test(n):\n",
    "    for i in range(n,-1,-1):\n",
    "        print(i)\n",
    "\n",
    "def test_2(n):\n",
    "    for i in range(n,-1):\n",
    "        print(i)\n",
    "\n",
    "# 추측 : range (시작점, 끝점, 범위 간격)        \n",
    "def test_3(n):\n",
    "    for i in range(n,0,-1):\n",
    "        print(i)\n",
    "\n",
    "        \n",
    "print(\"test 결과\")\n",
    "test(10)\n",
    "print(\"test2 결과\")\n",
    "test_2(10)\n",
    "print(\"test3 결과\")\n",
    "test_3(10)"
   ]
  }
 ],
 "metadata": {
  "kernelspec": {
   "display_name": "Python 3",
   "language": "python",
   "name": "python3"
  },
  "language_info": {
   "codemirror_mode": {
    "name": "ipython",
    "version": 3
   },
   "file_extension": ".py",
   "mimetype": "text/x-python",
   "name": "python",
   "nbconvert_exporter": "python",
   "pygments_lexer": "ipython3",
   "version": "3.7.1"
  }
 },
 "nbformat": 4,
 "nbformat_minor": 2
}
