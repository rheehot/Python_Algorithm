{
 "cells": [
  {
   "cell_type": "markdown",
   "metadata": {},
   "source": [
    "괄호는 다음 문자들과 같습니다. (,),{,},[,].\n",
    "\n",
    "올바른 괄호문자열은 다음과 같습니다:\n",
    "\n",
    "1. 빈 문자열은 올바른 괄호문자열입니다.\n",
    "\n",
    "2. [],{},() 는 각각 올바른 괄호문자열입니다.\n",
    "\n",
    "3. A와 B를 올바른 괄호문자열이라고 생각했을 때, AB는 올바른 괄호문자열입니다.\n",
    "\n",
    "4. A가 올바른 괄호문자열라면 [A],(A),{A}는 올바른 괄호문자열입니다.\n",
    "\n",
    "크기가 n인 괄호문자열이 주어질 때, 올바른 괄호문자열인지 판별하세요. 만약 올바른괄호라면 YES를, 아니면 NO를 출력하세요.\n",
    "\n",
    "\n",
    "\n",
    "입력\n",
    "\n",
    "첫째 줄에 문자열의 개수인 정수 n이 주어집니다.\n",
    "\n",
    "다음 n줄에 각각에는 괄호문자열인 s가 주어집니다.\n",
    "\n",
    "\n",
    "\n",
    "출력\n",
    "\n",
    "각 문자열에 대해, 올바른 괄호문자열이면 YES를, 아니면 NO를 각 줄에 출력하세요.\n",
    "\n",
    "\n",
    "\n",
    "제약조건\n",
    "\n",
    "1 <= n <= 25\n",
    "\n",
    "1 <= 괄호문자열의 길이 <= 100\n",
    "\n",
    "문자열은 괄호만 포함됩니다."
   ]
  },
  {
   "cell_type": "code",
   "execution_count": null,
   "metadata": {},
   "outputs": [],
   "source": [
    "# 초기에 길이를 파악하고\n",
    "# 반복문을 돌리는데 절반 돌려서\n",
    "# 키 쌍에 맞는 값이 존재하는지 확인을 해서\n",
    "# 문제를 풀어나 갈 수 있으면 좋을 것같다."
   ]
  }
 ],
 "metadata": {
  "kernelspec": {
   "display_name": "Python 3",
   "language": "python",
   "name": "python3"
  },
  "language_info": {
   "codemirror_mode": {
    "name": "ipython",
    "version": 3
   },
   "file_extension": ".py",
   "mimetype": "text/x-python",
   "name": "python",
   "nbconvert_exporter": "python",
   "pygments_lexer": "ipython3",
   "version": "3.7.1"
  }
 },
 "nbformat": 4,
 "nbformat_minor": 2
}
