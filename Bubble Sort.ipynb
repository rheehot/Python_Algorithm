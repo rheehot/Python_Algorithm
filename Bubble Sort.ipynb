{
 "cells": [
  {
   "cell_type": "markdown",
   "metadata": {},
   "source": [
    "버블정렬은 직관적으로 정렬하는 방법, 효율은 떨어지지만 알고리즘을 공부하기 위해서는 기본적인 내용이므로 공부를 진행했습니다.\n",
    "당장 옆에 있는 값과 비교해서 최종적으로는 제일 큰 값을 뒤로 보내는 방식이라고 보면 됩니다.\n",
    "첫 반복문에서 -1을 한 경우는 2개씩 비교하다보니 마지막 한번은 비교하지 않아도 되기 때문입니다.\n",
    "두번째 내부의 반복문에서 -i을 한 경우는 제일 뒷자리에 값이 고정되기 때문에 거기까지 가지않아도 되기 때문에 시도한 횟수만큼 차감해주는 것입니다."
   ]
  },
  {
   "cell_type": "code",
   "execution_count": 17,
   "metadata": {},
   "outputs": [
    {
     "name": "stdout",
     "output_type": "stream",
     "text": [
      "[1, 5, 8, 7, 6, 4, 3, 2, 9, 10]\n",
      "[1, 5, 7, 6, 4, 3, 2, 8, 9, 10]\n",
      "[1, 5, 6, 4, 3, 2, 7, 8, 9, 10]\n",
      "[1, 5, 4, 3, 2, 6, 7, 8, 9, 10]\n",
      "[1, 4, 3, 2, 5, 6, 7, 8, 9, 10]\n",
      "[1, 3, 2, 4, 5, 6, 7, 8, 9, 10]\n",
      "[1, 2, 3, 4, 5, 6, 7, 8, 9, 10]\n",
      "[1, 2, 3, 4, 5, 6, 7, 8, 9, 10]\n",
      "[1, 2, 3, 4, 5, 6, 7, 8, 9, 10]\n",
      "실행횟수 : 45\n",
      "결과 [1, 2, 3, 4, 5, 6, 7, 8, 9, 10]\n"
     ]
    }
   ],
   "source": [
    "# 오름차순으로 정렬\n",
    "def bubble_sort(list):\n",
    "    count = 0\n",
    "    for i in range(0,len(list)-1):\n",
    "        for j in range(0,len(list)-i-1):\n",
    "            count += 1\n",
    "            if list[j] > list[j+1]:\n",
    "                list[j], list[j+1] = list[j+1], list[j]\n",
    "        print(list)\n",
    "    print(\"실행횟수 :\",count)\n",
    "d = [ 1,10, 5, 8, 7, 6, 4, 3, 2, 9 ]\n",
    "bubble_sort(d)\n",
    "print(\"결과\",d)"
   ]
  },
  {
   "cell_type": "code",
   "execution_count": 16,
   "metadata": {},
   "outputs": [
    {
     "name": "stdout",
     "output_type": "stream",
     "text": [
      "[10, 5, 8, 7, 6, 4, 3, 2, 9, 1]\n",
      "[10, 8, 7, 6, 5, 4, 3, 9, 2, 1]\n",
      "[10, 8, 7, 6, 5, 4, 9, 3, 2, 1]\n",
      "[10, 8, 7, 6, 5, 9, 4, 3, 2, 1]\n",
      "[10, 8, 7, 6, 9, 5, 4, 3, 2, 1]\n",
      "[10, 8, 7, 9, 6, 5, 4, 3, 2, 1]\n",
      "[10, 8, 9, 7, 6, 5, 4, 3, 2, 1]\n",
      "[10, 9, 8, 7, 6, 5, 4, 3, 2, 1]\n",
      "[10, 9, 8, 7, 6, 5, 4, 3, 2, 1]\n",
      "실행횟수 : 45\n",
      "결과 [10, 9, 8, 7, 6, 5, 4, 3, 2, 1]\n"
     ]
    }
   ],
   "source": [
    "# 내림차순으로 정렬\n",
    "def bubble_sort(list):\n",
    "    count=0\n",
    "    for i in range(len(list)-1):\n",
    "        for j in range(len(list)-i-1):\n",
    "            count+=1\n",
    "            if list[j] < list[j+1]:\n",
    "                list[j], list[j+1] = list[j+1], list[j]\n",
    "        print(list)\n",
    "    print(\"실행횟수 :\",count)\n",
    "d = [1,10,5,8,7,6,4,3,2,9]\n",
    "bubble_sort(d)\n",
    "print(\"결과\",d)"
   ]
  }
 ],
 "metadata": {
  "kernelspec": {
   "display_name": "Python 3",
   "language": "python",
   "name": "python3"
  },
  "language_info": {
   "codemirror_mode": {
    "name": "ipython",
    "version": 3
   },
   "file_extension": ".py",
   "mimetype": "text/x-python",
   "name": "python",
   "nbconvert_exporter": "python",
   "pygments_lexer": "ipython3",
   "version": "3.7.1"
  }
 },
 "nbformat": 4,
 "nbformat_minor": 2
}
