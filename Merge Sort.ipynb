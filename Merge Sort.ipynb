{
 "cells": [
  {
   "cell_type": "markdown",
   "metadata": {},
   "source": [
    "합병정렬은 처음에 한 개씩 다 뜯고, 그 후 나눈 값중 왼쪽 오른쪽 값을 비교하여 하나씩 합쳐가는 형태"
   ]
  },
  {
   "cell_type": "code",
   "execution_count": 4,
   "metadata": {},
   "outputs": [
    {
     "name": "stdout",
     "output_type": "stream",
     "text": [
      "결과: [1, 2, 3, 4, 5, 6, 7, 8, 9, 10]\n"
     ]
    }
   ],
   "source": [
    "def merge_sort_divide(list):\n",
    "    if len(list)<=1:\n",
    "        return list\n",
    "    else:\n",
    "        mid = int(len(list)/2)\n",
    "        left_list = list[:mid] \n",
    "        right_list = list [mid:]\n",
    "        left_list = merge_sort_divide(left_list)\n",
    "        right_list = merge_sort_divide(right_list)\n",
    "        return merge_sort(left_list,right_list)\n",
    "    \n",
    "def merge_sort(left_list,right_list):\n",
    "    result_list = []\n",
    "    while len(left_list) > 0 or len(right_list) > 0:\n",
    "        if len(left_list) > 0 and len(right_list) > 0:\n",
    "            if left_list[0] <= right_list[0]:\n",
    "                result_list.append(left_list[0])\n",
    "                left_list = left_list[1:]\n",
    "            else:\n",
    "                result_list.append(right_list[0])\n",
    "                right_list = right_list[1:]\n",
    "        elif len(left_list) > 0 :\n",
    "            result_list.append(left_list[0])\n",
    "            left_list = left_list[1:]\n",
    "        elif len(right_list) > 0 :\n",
    "            result_list.append(right_list[0])\n",
    "            right_list = right_list[1:]\n",
    "    return result_list\n",
    "\n",
    "d = [5,6,1,7,9,4,10,8,3,2]\n",
    "d = merge_sort_divide(d)\n",
    "print(\"결과:\",d)"
   ]
  }
 ],
 "metadata": {
  "kernelspec": {
   "display_name": "Python 3",
   "language": "python",
   "name": "python3"
  },
  "language_info": {
   "codemirror_mode": {
    "name": "ipython",
    "version": 3
   },
   "file_extension": ".py",
   "mimetype": "text/x-python",
   "name": "python",
   "nbconvert_exporter": "python",
   "pygments_lexer": "ipython3",
   "version": "3.7.1"
  }
 },
 "nbformat": 4,
 "nbformat_minor": 2
}
