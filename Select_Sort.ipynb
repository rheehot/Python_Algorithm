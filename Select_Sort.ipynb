{
 "cells": [
  {
   "cell_type": "raw",
   "metadata": {},
   "source": [
    "선택정렬\n",
    "\n",
    "\n",
    "선택정렬은 제일 첫 칸에 들어갈 값과 비교하여 오름차순으로 정리할 때에는 최소값을 두고, 내림차순으로 정리할 때에는 최대값을 둔다.\n",
    "아래의 코드에서 첫번째 for 문에서 n-1의 값을 준 이유는 앞에서부터 2개씩 비교를 할 때 우리는 10개를 비교하기 위해서는 총 9 번의 과정을 거치면 되고, 내부의 두번째 for문에서 i+1의 값을 준 이유는 고정된 위치 이후로부터 판단을 하면 되기 때문에 아래와 같은 비교 코드가 나오게 되었다. 또 C언어처럼 temp 같은 별도 공간 없이 'list[i], list[min_index] = list[min_index], list[i]'와 같은 코드를 통해 스와핑 할 수 있어 소스코드가 더 간결하다. \n"
   ]
  },
  {
   "cell_type": "code",
   "execution_count": 27,
   "metadata": {},
   "outputs": [
    {
     "name": "stdout",
     "output_type": "stream",
     "text": [
      "[1, 10, 5, 8, 7, 6, 4, 3, 2, 9]\n",
      "[1, 2, 5, 8, 7, 6, 4, 3, 10, 9]\n",
      "[1, 2, 3, 8, 7, 6, 4, 5, 10, 9]\n",
      "[1, 2, 3, 4, 7, 6, 8, 5, 10, 9]\n",
      "[1, 2, 3, 4, 5, 6, 8, 7, 10, 9]\n",
      "[1, 2, 3, 4, 5, 6, 8, 7, 10, 9]\n",
      "[1, 2, 3, 4, 5, 6, 7, 8, 10, 9]\n",
      "[1, 2, 3, 4, 5, 6, 7, 8, 10, 9]\n",
      "[1, 2, 3, 4, 5, 6, 7, 8, 9, 10]\n",
      "결과 :  [1, 2, 3, 4, 5, 6, 7, 8, 9, 10]\n"
     ]
    }
   ],
   "source": [
    "# 내림차순 정렬\n",
    "def select_sort(list):\n",
    "    n = len(list)\n",
    "    for i in range (0,n-1):\n",
    "        min_index = i\n",
    "        for j in range (i+1,n):\n",
    "            if list[j] < list[min_index]:\n",
    "                min_index = j\n",
    "        list[i], list[min_index] = list[min_index], list[i]\n",
    "        print(list)\n",
    "        \n",
    "d = [1,10,5,8,7,6,4,3,2,9]\n",
    "select_sort(d)\n",
    "print(\"결과 : \",d) "
   ]
  },
  {
   "cell_type": "code",
   "execution_count": 26,
   "metadata": {},
   "outputs": [
    {
     "name": "stdout",
     "output_type": "stream",
     "text": [
      "[10, 1, 5, 8, 7, 6, 4, 3, 2, 9]\n",
      "[10, 9, 5, 8, 7, 6, 4, 3, 2, 1]\n",
      "[10, 9, 8, 5, 7, 6, 4, 3, 2, 1]\n",
      "[10, 9, 8, 7, 5, 6, 4, 3, 2, 1]\n",
      "[10, 9, 8, 7, 6, 5, 4, 3, 2, 1]\n",
      "[10, 9, 8, 7, 6, 5, 4, 3, 2, 1]\n",
      "[10, 9, 8, 7, 6, 5, 4, 3, 2, 1]\n",
      "[10, 9, 8, 7, 6, 5, 4, 3, 2, 1]\n",
      "[10, 9, 8, 7, 6, 5, 4, 3, 2, 1]\n",
      "[10, 9, 8, 7, 6, 5, 4, 3, 2, 1]\n",
      "결과 :  [10, 9, 8, 7, 6, 5, 4, 3, 2, 1]\n"
     ]
    }
   ],
   "source": [
    "# 오름차순 정렬\n",
    "def select_sort(list):\n",
    "    n = len(list)\n",
    "    for i in range (0,n):\n",
    "        max_index = i\n",
    "        for j in range (i,n):\n",
    "            if list[max_index] < list[j]:\n",
    "                max_index = j\n",
    "        list[i], list[max_index] = list[max_index], list[i]\n",
    "        print(list) # 변경 과정을 보기 우위한 출력\n",
    "        \n",
    "d = [1,10,5,8,7,6,4,3,2,9]\n",
    "select_sort(d)\n",
    "print(\"결과 : \", d) "
   ]
  },
  {
   "cell_type": "code",
   "execution_count": null,
   "metadata": {},
   "outputs": [],
   "source": []
  }
 ],
 "metadata": {
  "kernelspec": {
   "display_name": "Python 3",
   "language": "python",
   "name": "python3"
  },
  "language_info": {
   "codemirror_mode": {
    "name": "ipython",
    "version": 3
   },
   "file_extension": ".py",
   "mimetype": "text/x-python",
   "name": "python",
   "nbconvert_exporter": "python",
   "pygments_lexer": "ipython3",
   "version": "3.7.1"
  }
 },
 "nbformat": 4,
 "nbformat_minor": 2
}
