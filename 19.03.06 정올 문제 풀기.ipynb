{
 "cells": [
  {
   "cell_type": "markdown",
   "metadata": {},
   "source": [
    "강아지와 병아리의 합과 다리의 수를 입력받아 강아지와 병아리가 각각 몇 마리씩인지 구하는 프로그램을 작성하시오. <br>\n",
    "강아지와 병아리의 합 1000 이하 다리의 합 4000 이하의 음이 아닌 정수가 공백으로 구분하여 입력된다.<br>\n",
    "하나의 결과가 나온 후에도 계속 새로운 입력을 받다가 0 0 이 입력되면 프로그램을 종료한다.<br>\n",
    "25 80<br>\n",
    "15 10<br>\n",
    "1500 20000<br>\n",
    "0 0<br>"
   ]
  },
  {
   "cell_type": "code",
   "execution_count": 3,
   "metadata": {},
   "outputs": [
    {
     "name": "stdout",
     "output_type": "stream",
     "text": [
      "0 0\n"
     ]
    }
   ],
   "source": [
    "def leg_total(element,legs):\n",
    "    for i in range(element):\n",
    "        for j in range(element-i):\n",
    "            if 4*i + j*2 == legs:\n",
    "                return [i,j]\n",
    "\n",
    "result_list = []\n",
    "while(True):\n",
    "    element, legs =  map(int,input().split())\n",
    "    if element * 2 > legs:\n",
    "        print(0)\n",
    "    elif element > 1000 or legs > 4000:\n",
    "        print(\"INPUT ERROR!\")\n",
    "    elif element == 0 and legs == 0:\n",
    "        break\n",
    "    else:\n",
    "        result_list = leg_total(element,legs)\n",
    "        print(result_list[0],result_list[1])"
   ]
  },
  {
   "cell_type": "markdown",
   "metadata": {},
   "source": [
    "n개의 정수를 입력받아서 최대공약수와 최소공배수를 구하는 프로그램을 작성하여 보자. <br>\n",
    "입력 값 <br>\n",
    "3 <br>\n",
    "2 8 10 <br>\n",
    "출력 값 <br>\n",
    "2 40<br>"
   ]
  },
  {
   "cell_type": "code",
   "execution_count": 7,
   "metadata": {},
   "outputs": [
    {
     "name": "stdout",
     "output_type": "stream",
     "text": [
      "3\n",
      "3 6 27\n",
      "3 54\n"
     ]
    }
   ],
   "source": [
    "def gcd(a,b):\n",
    "    return a if b == 0 else gcd(b,a%b)\n",
    "\n",
    "count = int(input())\n",
    "# 리스트 형태로 한 줄에 값을 입력 받기 위한 형태\n",
    "my_list = list(map(int,input().split()))\n",
    "lcb_result = 1\n",
    "for i in range(count-1):\n",
    "    if i == 0:\n",
    "        gcd_result = gcd(my_list[i],my_list[i+1])\n",
    "    else :\n",
    "        gcd_result = gcd(gcd_result,my_list[i+1])\n",
    "for i in range(count):\n",
    "    if gcd_result == my_list[i]:\n",
    "        lcb_result *= my_list[i]\n",
    "    else:\n",
    "        my_list[i]//=gcd_result\n",
    "        lcb_result *= my_list[i]\n",
    "    \n",
    "print(gcd_result,lcb_result)"
   ]
  }
 ],
 "metadata": {
  "kernelspec": {
   "display_name": "Python 3",
   "language": "python",
   "name": "python3"
  },
  "language_info": {
   "codemirror_mode": {
    "name": "ipython",
    "version": 3
   },
   "file_extension": ".py",
   "mimetype": "text/x-python",
   "name": "python",
   "nbconvert_exporter": "python",
   "pygments_lexer": "ipython3",
   "version": "3.7.1"
  }
 },
 "nbformat": 4,
 "nbformat_minor": 2
}
