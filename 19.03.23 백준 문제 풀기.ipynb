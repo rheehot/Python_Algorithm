{
 "cells": [
  {
   "cell_type": "code",
   "execution_count": 17,
   "metadata": {},
   "outputs": [
    {
     "name": "stdout",
     "output_type": "stream",
     "text": [
      "10\n",
      "<class 'str'>\n",
      "901\n"
     ]
    }
   ],
   "source": [
    "a = 10\n",
    "b = str(a)\n",
    "print(b)\n",
    "print(type(b))\n",
    "a = 109\n",
    "b = str(a)\n",
    "b = b[::-1]\n",
    "a = int(b)\n",
    "print(a)"
   ]
  },
  {
   "cell_type": "code",
   "execution_count": 15,
   "metadata": {},
   "outputs": [
    {
     "name": "stdout",
     "output_type": "stream",
     "text": [
      "314\n",
      "11001100\n"
     ]
    }
   ],
   "source": [
    "def f(n):\n",
    "    a = 0\n",
    "    count = 0\n",
    "    while n !=0 :\n",
    "        a += n % 10 * 8 ** count\n",
    "        count += 1\n",
    "        n //= 10\n",
    "    b = bin(a)\n",
    "    c = int(b[2:])   \n",
    "    print(c)\n",
    "    \n",
    "n = int(input())\n",
    "f(n)"
   ]
  },
  {
   "cell_type": "code",
   "execution_count": 25,
   "metadata": {},
   "outputs": [
    {
     "name": "stdout",
     "output_type": "stream",
     "text": [
      "13\n",
      "but\n",
      "i\n",
      "wont\n",
      "hesitate\n",
      "no\n",
      "more\n",
      "no\n",
      "more\n",
      "it\n",
      "cannot\n",
      "wait\n",
      "im\n",
      "yours\n",
      "but\n",
      "no\n",
      "i\n",
      "it\n",
      "cannot\n",
      "more\n",
      "im\n",
      "wait\n",
      "yours\n",
      "wont\n",
      "hesitate\n"
     ]
    }
   ],
   "source": [
    "n = int(input())\n",
    "str_list = []\n",
    "for i in range(n):\n",
    "    str_list.append(input())\n",
    "str_list.sort()\n",
    "for j in range(n,0,-1):\n",
    "    for i in range(j-1):\n",
    "        if len(str_list[i])>len(str_list[i+1]):\n",
    "            str_list[i],str_list[i+1] = str_list[i+1],str_list[i]\n",
    "str_list = list(set(str_list))\n",
    "s_len = len(str_list)\n",
    "for i in range(s_len):\n",
    "    print(str_list[i])"
   ]
  },
  {
   "cell_type": "code",
   "execution_count": 34,
   "metadata": {},
   "outputs": [
    {
     "name": "stdout",
     "output_type": "stream",
     "text": [
      "5\n",
      "5 4 64 54 45\n",
      "[[5], [2, 2], [2, 2, 2, 2, 2, 2], [2, 3, 3, 3], [3, 3, 5]]\n"
     ]
    }
   ],
   "source": [
    "def f(n):\n",
    "    a = []\n",
    "    i = 2\n",
    "    while i <= n:\n",
    "        if n % i == 0:\n",
    "            a.append(i)\n",
    "            n //= i\n",
    "        else:\n",
    "            i += 1\n",
    "    return a\n",
    "            \n",
    "n = int(input())\n",
    "a = list(map(int,input().split()))\n",
    "for i in range(n):\n",
    "    a[i] = f(a[i])\n",
    "    \n",
    "print(a)"
   ]
  },
  {
   "cell_type": "code",
   "execution_count": 38,
   "metadata": {},
   "outputs": [
    {
     "name": "stdout",
     "output_type": "stream",
     "text": [
      "4\n",
      "301 100\n",
      "89 39\n",
      "50 25\n",
      "25 50\n",
      "3 1 100\n",
      "2 11 39\n",
      "2 0 25\n",
      "0 25 50\n"
     ]
    }
   ],
   "source": [
    "if __name__==\"__main__\":\n",
    "    TC = int(input())\n",
    "    v_mod = []\n",
    "    for i in range(TC):\n",
    "        v_mod.append(list(map(int,input().split())))\n",
    "    for i in range(TC):\n",
    "        print(v_mod[i][0]//v_mod[i][1],v_mod[i][0]%v_mod[i][1],v_mod[i][1])"
   ]
  },
  {
   "cell_type": "code",
   "execution_count": 42,
   "metadata": {},
   "outputs": [
    {
     "name": "stdout",
     "output_type": "stream",
     "text": [
      "10\n",
      "           *\n",
      "          **\n",
      "         ***\n",
      "        ****\n",
      "       *****\n",
      "      ******\n",
      "     *******\n",
      "    ********\n",
      "   *********\n",
      "  **********\n"
     ]
    }
   ],
   "source": [
    "n = int(input())\n",
    "for i in range(n):\n",
    "    for j in range(n-i+1):\n",
    "        print(\" \",end='')\n",
    "    for k in range(i+1):\n",
    "        print(\"*\",end='')\n",
    "    print()"
   ]
  },
  {
   "cell_type": "code",
   "execution_count": 48,
   "metadata": {},
   "outputs": [
    {
     "name": "stdout",
     "output_type": "stream",
     "text": [
      "5\n",
      "1 2 4 8 16\n",
      "38.75\n"
     ]
    }
   ],
   "source": [
    "def lie_calc(n,max_n):\n",
    "    return n/max_n*100\n",
    "    \n",
    "\n",
    "sub_n = int(input())\n",
    "sub = list(map(int,input().split()))\n",
    "max_score = max(sub)\n",
    "for i in range(sub_n):\n",
    "    sub[i] = lie_calc(sub[i],max_score)\n",
    "print(round(sum(sub)/sub_n,2))"
   ]
  },
  {
   "cell_type": "code",
   "execution_count": 51,
   "metadata": {},
   "outputs": [
    {
     "name": "stdout",
     "output_type": "stream",
     "text": [
      "40 40 40\n",
      "40\n"
     ]
    }
   ],
   "source": [
    "a = list(map(int,input().split()))\n",
    "a.sort()\n",
    "a = a[::-1]\n",
    "print(a[1])"
   ]
  }
 ],
 "metadata": {
  "kernelspec": {
   "display_name": "Python 3",
   "language": "python",
   "name": "python3"
  },
  "language_info": {
   "codemirror_mode": {
    "name": "ipython",
    "version": 3
   },
   "file_extension": ".py",
   "mimetype": "text/x-python",
   "name": "python",
   "nbconvert_exporter": "python",
   "pygments_lexer": "ipython3",
   "version": "3.7.1"
  }
 },
 "nbformat": 4,
 "nbformat_minor": 2
}
