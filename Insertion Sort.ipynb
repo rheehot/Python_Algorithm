{
 "cells": [
  {
   "cell_type": "markdown",
   "metadata": {},
   "source": [
    "삽입정렬,어떤면으로는 가장 효과적인 정렬방식이며, 어떻게 보면 그냥 이때까지 한정렬 방식과 별 차이 없는 편"
   ]
  },
  {
   "cell_type": "code",
   "execution_count": 3,
   "metadata": {},
   "outputs": [
    {
     "name": "stdout",
     "output_type": "stream",
     "text": [
      "[5, 7, 3, 1, 10, 8, 9, 6, 4, 2]\n",
      "[3, 5, 7, 1, 10, 8, 9, 6, 4, 2]\n",
      "[1, 3, 5, 7, 10, 8, 9, 6, 4, 2]\n",
      "[1, 3, 5, 7, 10, 8, 9, 6, 4, 2]\n",
      "[1, 3, 5, 7, 8, 10, 9, 6, 4, 2]\n",
      "[1, 3, 5, 7, 8, 9, 10, 6, 4, 2]\n",
      "[1, 3, 5, 6, 7, 8, 9, 10, 4, 2]\n",
      "[1, 3, 4, 5, 6, 7, 8, 9, 10, 2]\n",
      "[1, 2, 3, 4, 5, 6, 7, 8, 9, 10]\n",
      "실행 횟수 : 25\n",
      "결과: [1, 2, 3, 4, 5, 6, 7, 8, 9, 10]\n"
     ]
    }
   ],
   "source": [
    "# 오름차순 정렬\n",
    "def insertion_sort(list):\n",
    "    count = 0\n",
    "    for i in range(1,len(list)):\n",
    "        target_index = i\n",
    "        while target_index > 0:\n",
    "            if list[target_index-1] > list[target_index]:\n",
    "                list[target_index-1], list[target_index] = list[target_index], list[target_index-1]\n",
    "                count += 1\n",
    "            target_index -= 1\n",
    "        print(list)\n",
    "    print(\"실행 횟수 :\",count)\n",
    "d = [5,7,3,1,10,8,9,6,4,2]\n",
    "insertion_sort(d)\n",
    "print(\"결과:\",d)"
   ]
  },
  {
   "cell_type": "code",
   "execution_count": 5,
   "metadata": {},
   "outputs": [
    {
     "name": "stdout",
     "output_type": "stream",
     "text": [
      "[7, 5, 3, 1, 10, 8, 9, 6, 4, 2]\n",
      "[7, 5, 3, 1, 10, 8, 9, 6, 4, 2]\n",
      "[7, 5, 3, 1, 10, 8, 9, 6, 4, 2]\n",
      "[10, 7, 5, 3, 1, 8, 9, 6, 4, 2]\n",
      "[10, 8, 7, 5, 3, 1, 9, 6, 4, 2]\n",
      "[10, 9, 8, 7, 5, 3, 1, 6, 4, 2]\n",
      "[10, 9, 8, 7, 6, 5, 3, 1, 4, 2]\n",
      "[10, 9, 8, 7, 6, 5, 4, 3, 1, 2]\n",
      "[10, 9, 8, 7, 6, 5, 4, 3, 2, 1]\n",
      "실행 횟수 : 20\n",
      "결과: [10, 9, 8, 7, 6, 5, 4, 3, 2, 1]\n"
     ]
    }
   ],
   "source": [
    "# 내림차순 정렬\n",
    "def insertion_sort(list):\n",
    "    count = 0\n",
    "    for i in range(1,len(list)):\n",
    "        target_index = i\n",
    "        while target_index > 0:\n",
    "            if list[target_index-1] < list[target_index]:\n",
    "                list[target_index-1], list[target_index] = list[target_index], list[target_index-1]\n",
    "                count+=1\n",
    "            target_index -= 1\n",
    "        print(list)\n",
    "    print(\"실행 횟수 :\",count)\n",
    "    \n",
    "d = [5,7,3,1,10,8,9,6,4,2]\n",
    "insertion_sort(d)\n",
    "print(\"결과:\",d)"
   ]
  }
 ],
 "metadata": {
  "kernelspec": {
   "display_name": "Python 3",
   "language": "python",
   "name": "python3"
  },
  "language_info": {
   "codemirror_mode": {
    "name": "ipython",
    "version": 3
   },
   "file_extension": ".py",
   "mimetype": "text/x-python",
   "name": "python",
   "nbconvert_exporter": "python",
   "pygments_lexer": "ipython3",
   "version": "3.7.1"
  }
 },
 "nbformat": 4,
 "nbformat_minor": 2
}
