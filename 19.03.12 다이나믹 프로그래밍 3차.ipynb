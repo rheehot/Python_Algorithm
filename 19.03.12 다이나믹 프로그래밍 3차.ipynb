{
 "cells": [
  {
   "cell_type": "markdown",
   "metadata": {},
   "source": [
    "정수 4를 1, 2, 3의 합으로 나타내는 방법은 총 7가지가 있다. 합을 나타낼 때는 수를 1개 이상 사용해야 한다.<br>\n",
    "\n",
    "1+1+1+1 <br>\n",
    "1+1+2 <br>\n",
    "1+2+1 <br>\n",
    "2+1+1 <br>\n",
    "2+2 <br>\n",
    "1+3 <br>\n",
    "3+1 <br>\n",
    "정수 n이 주어졌을 때, n을 1, 2, 3의 합으로 나타내는 방법의 수를 구하는 프로그램을 작성하시오.<br>"
   ]
  },
  {
   "cell_type": "code",
   "execution_count": 2,
   "metadata": {},
   "outputs": [
    {
     "name": "stdout",
     "output_type": "stream",
     "text": [
      "3\n",
      "4\n",
      "7\n",
      "7\n",
      "44\n",
      "10\n",
      "274\n"
     ]
    }
   ],
   "source": [
    "# 정답이 나온 경우\n",
    "if __name__==\"__main__\":\n",
    "    case = int(input())\n",
    "    for c in range(case):\n",
    "        n = int(input())\n",
    "        t_list = []\n",
    "        t_list.append(1) # 1이 나올 수 있는 경우의 수\n",
    "        t_list.append(2) # 2가 나올 수 있는 경우의 수\n",
    "        t_list.append(4) # 3이 나올 수 있는 경우의 수\n",
    "        for i in range(3,n):\n",
    "            t_list.append(t_list[i-3]+t_list[i-2]+t_list[i-1])\n",
    "        print(t_list[n-1])"
   ]
  },
  {
   "cell_type": "markdown",
   "metadata": {},
   "source": [
    "# 밑은 문제를 풀어나가기 위해서 고민한 흔적들 입니다."
   ]
  },
  {
   "cell_type": "code",
   "execution_count": 9,
   "metadata": {
    "scrolled": true
   },
   "outputs": [
    {
     "name": "stdout",
     "output_type": "stream",
     "text": [
      "4\n",
      "4 [1, 1, 1, 1]\n",
      "4 [0, 2, 1, 1]\n",
      "4 [0, 0, 3, 1]\n",
      "[[1, 1, 1, 1], [2, 1, 1], [3, 1]]\n"
     ]
    }
   ],
   "source": [
    "if __name__ == \"__main__\":\n",
    "    count = 0\n",
    "    n = int(input())\n",
    "    n_list = [1] * n\n",
    "    r_list = []\n",
    "    for i in range(n):\n",
    "        for j in range(1,4):\n",
    "            n_list[i]=j\n",
    "            if sum(n_list)==n:\n",
    "                print(n,n_list)\n",
    "                r_list.append(list(i for i in n_list[:] if i != 0 ))\n",
    "            if j == 3:\n",
    "                n_list[i]=0\n",
    "    print(r_list)"
   ]
  },
  {
   "cell_type": "markdown",
   "metadata": {},
   "source": [
    "# 진행 중인 방법\n",
    "\n",
    "우선 n개만큼 1을 더하는 방법이 있고 그 경우의 항이 제일 많다. 따라서 그 조건부터 차례차례 줄여 갈 것이다.<br>\n",
    "제일 뒤의 값을 1,2,3 돌리고 0으로 변경해 준다. 각 경우마다 sum을 실시해 num 의 값을 만족 하는지 따진다. <br>\n",
    "모든 경우가 끝난 뒤 카운팅한 갯수를 출력한다 <br>\n",
    "\n",
    "# 발생 한 문제점\n",
    "\n",
    "초기 항 부터 차근차근 넘어 갈 시 해당 패턴을 가지고 있는 전체의 경우의 수가 나오지 않는다.<br>\n",
    "\n",
    "# 해결 방안\n",
    "\n",
    "카운팅 될 때의 경우의 수를 모두 리스트에 넣는다."
   ]
  },
  {
   "cell_type": "markdown",
   "metadata": {},
   "source": [
    "# 추가 발생 한 문제점\n",
    "3까지만 돌리기 때문에 뒤의 나머지 값으로 아무리 더해도 1로 고정되어 있기 때문에 합한 결과 값을 알 수 없다. <br>\n",
    "뒤에 1의 갯수가 여유있는 경우에만 더해지니까 이 문제는 거꾸로 해도 똑같다. 따라서 3일때 안되면 앞의 수를 바꾸어서 되면 되게끔 바꾸어야한다. <br>\n",
    "따라서 if j == 3 부분에 추가적으로 들어가야 할 것 같다. <br>"
   ]
  },
  {
   "cell_type": "code",
   "execution_count": 11,
   "metadata": {},
   "outputs": [
    {
     "name": "stdout",
     "output_type": "stream",
     "text": [
      "3\n",
      "1\n"
     ]
    }
   ],
   "source": [
    "if __name__ == \"__main__\":\n",
    "    count = 0\n",
    "    count2 = 0\n",
    "    n = int(input())\n",
    "    n_list = [1] * n\n",
    "    r_list = []\n",
    "    for i in range(n-1,-1,-1):\n",
    "        for j in range(1,4):\n",
    "            n_list[i]=j\n",
    "            r_list.append(list(i for i in n_list[:] if i != 0 ))\n",
    "            count += 1\n",
    "    for i in range(count):\n",
    "        if sum(r_list[i]) == n:\n",
    "            count2 += 1\n",
    "            \n",
    "    print(count2)"
   ]
  },
  {
   "cell_type": "markdown",
   "metadata": {},
   "source": [
    "# 1 1 1 , 1 1 2  1 1 3 , 1 2 2 , 1 2 3 , 1 3 3 , 2 3 3 , 3 3 3\n",
    "- 전체 모든 경우의 수를 반영하지 못한다.\n",
    "- 그치만 위의 상황은...더 적은 경우의 수를 반영하지 못한다."
   ]
  },
  {
   "cell_type": "code",
   "execution_count": 1,
   "metadata": {},
   "outputs": [
    {
     "name": "stdout",
     "output_type": "stream",
     "text": [
      "3\n",
      "4\n",
      "7\n",
      "7\n",
      "44\n",
      "10\n",
      "274\n"
     ]
    }
   ],
   "source": [
    "if __name__==\"__main__\":\n",
    "    case = int(input())\n",
    "    for c in range(case):\n",
    "        n = int(input())\n",
    "        t_list = []\n",
    "        t_list.append(1) # 1이 나올 수 있는 경우의 수\n",
    "        t_list.append(2) # 2가 나올 수 있는 경우의 수\n",
    "        t_list.append(4) # 3이 나올 수 있는 경우의 수\n",
    "        for i in range(3,n):\n",
    "            t_list.append(t_list[i-3]+t_list[i-2]+t_list[i-1])\n",
    "        print(t_list[n-1])"
   ]
  },
  {
   "cell_type": "markdown",
   "metadata": {},
   "source": [
    "# 어떻게 해야할까 ...\n",
    "\n",
    "# 1의 경우\n",
    "1\n",
    "# 2의 경우\n",
    "1+1 , 2\n",
    "# 3의 경우\n",
    "1+1+1, 1+2, 2+1 , 3\n",
    "# 4의 경우\n",
    "1+1+1+1 , 1+1+2, 1+2+1, 2+1+1, 2+2, 3+1, 1+3 \n",
    "# 5의 경우 \n",
    "생략 ...\n",
    "# 6의 경우\n",
    "생략...\n",
    "# 각 경우를 리스트의 값으로 표현했을 때\n",
    "# [1,2,4,7,13,24]\n",
    "\n",
    "# i의 결과를 알기 위해서 그 전 3개 항의 결과값을 알면 되는 가장 간단한 문제였지만... 경우의 수를 제대로 다 구하지 않아 시간이 오래 걸렸음\n"
   ]
  }
 ],
 "metadata": {
  "kernelspec": {
   "display_name": "Python 3",
   "language": "python",
   "name": "python3"
  },
  "language_info": {
   "codemirror_mode": {
    "name": "ipython",
    "version": 3
   },
   "file_extension": ".py",
   "mimetype": "text/x-python",
   "name": "python",
   "nbconvert_exporter": "python",
   "pygments_lexer": "ipython3",
   "version": "3.7.1"
  }
 },
 "nbformat": 4,
 "nbformat_minor": 2
}
