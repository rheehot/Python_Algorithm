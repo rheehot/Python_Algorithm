{
 "cells": [
  {
   "cell_type": "code",
   "execution_count": 5,
   "metadata": {},
   "outputs": [
    {
     "name": "stdout",
     "output_type": "stream",
     "text": [
      "16\n",
      "[[2, 4]]\n"
     ]
    }
   ],
   "source": [
    "# 수를 입력\n",
    "number = int(input())\n",
    "\n",
    "# 소인수 분해 할 공간 확보\n",
    "prime_list = []\n",
    "\n",
    "#숫자 저장공간\n",
    "compare_to_number = 0\n",
    "count = 0\n",
    "\n",
    "# 소인수분해       \n",
    "for i in range(2,number):\n",
    "  for j in range(number):\n",
    "    if(number % i == 0):\n",
    "      count += 1\n",
    "      number = int(number / i)\n",
    "  if(count != 0):\n",
    "    prime_list.append([i,count])\n",
    "  count = 0  \n",
    "\n",
    "print(prime_list)"
   ]
  }
 ],
 "metadata": {
  "kernelspec": {
   "display_name": "Python 3",
   "language": "python",
   "name": "python3"
  },
  "language_info": {
   "codemirror_mode": {
    "name": "ipython",
    "version": 3
   },
   "file_extension": ".py",
   "mimetype": "text/x-python",
   "name": "python",
   "nbconvert_exporter": "python",
   "pygments_lexer": "ipython3",
   "version": "3.7.1"
  }
 },
 "nbformat": 4,
 "nbformat_minor": 2
}
