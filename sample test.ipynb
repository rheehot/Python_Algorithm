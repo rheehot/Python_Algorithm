{
 "cells": [
  {
   "cell_type": "markdown",
   "metadata": {},
   "source": [
    "문제 설명 <br>\n",
    "직사각형을 만드는 데 필요한 4개의 점 중 3개의 좌표가 주어질 때, 나머지 한 점의 좌표를 구하려고 합니다. 점 3개의 좌표가 들어있는 배열 v가 매개변수로 주어질 때, 직사각형을 만드는 데 필요한 나머지 한 점의 좌표를 return 하도록 solution 함수를 완성해주세요. 단, 직사각형의 각 변은 x축, y축에 평행하며, 반드시 직사각형을 만들 수 있는 경우만 입력으로 주어집니다.<br>\n",
    "<br>\n",
    "제한사항<br>\n",
    "v는 세 점의 좌표가 들어있는 2차원 배열입니다.<br>\n",
    "v의 각 원소는 점의 좌표를 나타내며, 좌표는 [x축 좌표, y축 좌표] 순으로 주어집니다.<br>\n",
    "좌표값은 1 이상 10억 이하의 자연수입니다.<br>\n",
    "직사각형을 만드는 데 필요한 나머지 한 점의 좌표를 [x축 좌표, y축 좌표] 순으로 담아 return 해주세요.<br>\n",
    "<br>\n",
    "입출력 예<br>\n",
    "v\tresult<br>\n",
    "[[1, 4], [3, 4], [3, 10]]\t[1, 10]<br>\n",
    "[[1, 1], [2, 2], [1, 2]]\t[2, 1]<br>\n",
    "입출력 예 설명<br>\n",
    "입출력 예 #1<br>\n",
    "세 점이 [1, 4], [3, 4], [3, 10] 위치에 있을 때, [1, 10]에 점이 위치하면 직사각형이 됩니다.<br>\n",
    "<br>\n",
    "입출력 예 #2<br>\n",
    "세 점이 [1, 1], [2, 2], [1, 2] 위치에 있을 때, [2, 1]에 점이 위치하면 직사각형이 됩니다.<br>"
   ]
  },
  {
   "cell_type": "code",
   "execution_count": 2,
   "metadata": {},
   "outputs": [
    {
     "name": "stdout",
     "output_type": "stream",
     "text": [
      "1 1\n",
      "2 2\n",
      "1 2\n",
      "[2, 1]\n"
     ]
    }
   ],
   "source": [
    "def solution(p_list):\n",
    "    n = len(p_list)\n",
    "    pos = []\n",
    "    # x 위치\n",
    "    if p_list[0][0] == p_list[1][0]:\n",
    "        pos.append(p_list[2][0])\n",
    "    elif p_list[1][0] == p_list[2][0]:\n",
    "        pos.append(p_list[0][0])\n",
    "    else:\n",
    "        pos.append(p_list[1][0])\n",
    "    # y 위치\n",
    "    if p_list[0][1] == p_list[1][1]:\n",
    "        pos.append(p_list[2][1])\n",
    "    elif p_list[1][1] == p_list[2][1]:\n",
    "        pos.append(p_list[0][1])\n",
    "    else:\n",
    "        pos.append(p_list[1][1])\n",
    "    return pos\n",
    "\n",
    "            \n",
    "\n",
    "if __name__==\"__main__\":\n",
    "    p_list = []\n",
    "    for i in range(3):\n",
    "        p_list.append(list(map(int,input().split())))\n",
    "    print(solution(p_list))\n",
    "        "
   ]
  },
  {
   "cell_type": "markdown",
   "metadata": {},
   "source": [
    "테스트 1<br>\n",
    "입력값 〉\t[[1, 4], [3, 4], [3, 10]]<br>\n",
    "기댓값 〉\t[1, 10]<br>\n",
    "실행 결과 〉\t테스트를 통과하였습니다.<br>\n",
    "테스트 2<br>\n",
    "입력값 〉\t[[1, 1], [2, 2], [1, 2]]<br>\n",
    "기댓값 〉\t[2, 1]<br>\n",
    "실행 결과 〉\t테스트를 통과하였습니다.<br>"
   ]
  },
  {
   "cell_type": "markdown",
   "metadata": {},
   "source": [
    "이 문제에는 표준 입력으로 두 개의 정수 n과 m이 주어집니다. <br>\n",
    "별(*) 문자를 이용해 가로의 길이가 n, 세로의 길이가 m인 직사각형 형태를 출력해보세요. <br>\n",
    "n과 m은 각각 1000 이하인 자연수입니다.<br>\n",
    "\n",
    "입력<br>\n",
    "<br>\n",
    "5 3<br>\n",
    "출력<br>\n",
    "<br>\n",
    "* <- 5개씩 <br>\n",
    "* <- 5개씩 <br>\n",
    "* <- 5개씩 <br>"
   ]
  },
  {
   "cell_type": "code",
   "execution_count": 4,
   "metadata": {},
   "outputs": [
    {
     "name": "stdout",
     "output_type": "stream",
     "text": [
      "5 3\n",
      "*****\n",
      "*****\n",
      "*****\n"
     ]
    }
   ],
   "source": [
    "a, b = map(int, input().strip().split(' '))\n",
    "for i in range(b):\n",
    "    for j in range(a):\n",
    "        print('*',end='')\n",
    "    print()"
   ]
  }
 ],
 "metadata": {
  "kernelspec": {
   "display_name": "Python 3",
   "language": "python",
   "name": "python3"
  },
  "language_info": {
   "codemirror_mode": {
    "name": "ipython",
    "version": 3
   },
   "file_extension": ".py",
   "mimetype": "text/x-python",
   "name": "python",
   "nbconvert_exporter": "python",
   "pygments_lexer": "ipython3",
   "version": "3.7.1"
  }
 },
 "nbformat": 4,
 "nbformat_minor": 2
}
