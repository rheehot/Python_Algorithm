{
 "cells": [
  {
   "cell_type": "code",
   "execution_count": 8,
   "metadata": {},
   "outputs": [
    {
     "data": {
      "text/plain": [
       "19"
      ]
     },
     "execution_count": 8,
     "metadata": {},
     "output_type": "execute_result"
    }
   ],
   "source": [
    "def solution(A):\n",
    "    n = len(A)\n",
    "    A.sort()\n",
    "    for i in range(0,n-1,2):\n",
    "        if A[i] != A[i+1]:\n",
    "            return A[i]\n",
    "    return A[-1]\n",
    "\n",
    "A = [9,3,3,19,9,7,9,7,9]\n",
    "solution(A)"
   ]
  },
  {
   "cell_type": "code",
   "execution_count": null,
   "metadata": {},
   "outputs": [],
   "source": [
    "# 이건 100점 짜리\n",
    "def solution(X, Y, D):\n",
    "    # write your code in Python 3.6\n",
    "    H = Y-X\n",
    "    if H ==0:\n",
    "        return 0\n",
    "    else:\n",
    "        if H % D == 0:\n",
    "            return H//D\n",
    "        else:\n",
    "            return H//D+1"
   ]
  },
  {
   "cell_type": "markdown",
   "metadata": {},
   "source": [
    "https://app.codility.com/demo/results/trainingXETZ3B-CKV/ 100점짜리<br>\n",
    "https://app.codility.com/demo/results/trainingQF3BU3-43U/ 11점 짜리<br>"
   ]
  },
  {
   "cell_type": "code",
   "execution_count": null,
   "metadata": {},
   "outputs": [],
   "source": [
    "# 이건 11점 짜리\n",
    "def solution(X, Y, D):\n",
    "    # write your code in Python 3.6\n",
    "    count = 0\n",
    "    for i in range(X,Y+1,D):\n",
    "        count += 1\n",
    "    return count"
   ]
  },
  {
   "cell_type": "code",
   "execution_count": null,
   "metadata": {},
   "outputs": [],
   "source": []
  }
 ],
 "metadata": {
  "kernelspec": {
   "display_name": "Python 3",
   "language": "python",
   "name": "python3"
  },
  "language_info": {
   "codemirror_mode": {
    "name": "ipython",
    "version": 3
   },
   "file_extension": ".py",
   "mimetype": "text/x-python",
   "name": "python",
   "nbconvert_exporter": "python",
   "pygments_lexer": "ipython3",
   "version": "3.7.1"
  }
 },
 "nbformat": 4,
 "nbformat_minor": 2
}
