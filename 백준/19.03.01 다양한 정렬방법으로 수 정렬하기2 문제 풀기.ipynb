{
 "cells": [
  {
   "cell_type": "markdown",
   "metadata": {},
   "source": [
    "N개의 수가 주어졌을 때, 이를 오름차순으로 정렬하는 프로그램을 작성하시오.\n",
    "5\n",
    "5\n",
    "4\n",
    "3\n",
    "2\n",
    "1"
   ]
  },
  {
   "cell_type": "code",
   "execution_count": 15,
   "metadata": {},
   "outputs": [
    {
     "name": "stdout",
     "output_type": "stream",
     "text": [
      "5\n",
      "5\n",
      "4\n",
      "3\n",
      "2\n",
      "1\n",
      "1\n",
      "2\n",
      "3\n",
      "4\n",
      "5\n"
     ]
    }
   ],
   "source": [
    "# 합병 정렬을 이용해서 풀기\n",
    "# 얘도 시간 초과가 된다..\n",
    "def merge_sort_divide(list):\n",
    "    if len(list)<=1:\n",
    "        return list\n",
    "    else:\n",
    "        mid = int(len(list)/2)\n",
    "        left_list = list[:mid] \n",
    "        right_list = list [mid:]\n",
    "        left_list = merge_sort_divide(left_list)\n",
    "        right_list = merge_sort_divide(right_list)\n",
    "        return merge_sort(left_list,right_list)\n",
    "    \n",
    "def merge_sort(left_list,right_list):\n",
    "    result_list = []\n",
    "    while len(left_list) > 0 or len(right_list) > 0:\n",
    "        if len(left_list) > 0 and len(right_list) > 0:\n",
    "            if left_list[0] <= right_list[0]:\n",
    "                result_list.append(left_list[0])\n",
    "                left_list = left_list[1:]\n",
    "            else:\n",
    "                result_list.append(right_list[0])\n",
    "                right_list = right_list[1:]\n",
    "        elif len(left_list) > 0 :\n",
    "            result_list.append(left_list[0])\n",
    "            left_list = left_list[1:]\n",
    "        elif len(right_list) > 0 :\n",
    "            result_list.append(right_list[0])\n",
    "            right_list = right_list[1:]\n",
    "    return result_list\n",
    "\n",
    "count = int(input())\n",
    "list = [None]*count\n",
    "for i in range(len(list)):\n",
    "    list[i]=int(input())\n",
    "list = merge_sort_divide(list)\n",
    "for i in range(len(list)):\n",
    "    print(list[i])"
   ]
  },
  {
   "cell_type": "code",
   "execution_count": 9,
   "metadata": {},
   "outputs": [
    {
     "name": "stdout",
     "output_type": "stream",
     "text": [
      "5\n",
      "5\n",
      "4\n",
      "3\n",
      "2\n",
      "1\n",
      "1\n",
      "2\n",
      "3\n",
      "4\n",
      "5\n"
     ]
    }
   ],
   "source": [
    "# 버블 소트를 이용해서 풀기\n",
    "# 이것도 시간초과 뜸.\n",
    "def bubble_sourt(list):\n",
    "    for i in range(len(list)-1):\n",
    "        max_index = i\n",
    "        for j in reversed(range(i+1,len(list))):\n",
    "            if list[j] < list[j-1]:\n",
    "                list[j],list[j-1] = list[j-1],list[j]\n",
    "\n",
    "count = int(input())\n",
    "list = [None]*count\n",
    "for i in range(len(list)):\n",
    "    list[i]=int(input())\n",
    "bubble_sourt(list)\n",
    "for i in range(len(list)):\n",
    "    print(list[i])"
   ]
  },
  {
   "cell_type": "code",
   "execution_count": 6,
   "metadata": {},
   "outputs": [
    {
     "name": "stdout",
     "output_type": "stream",
     "text": [
      "5\n",
      "5\n",
      "4\n",
      "3\n",
      "2\n",
      "1\n",
      "1\n",
      "2\n",
      "3\n",
      "4\n",
      "5\n"
     ]
    }
   ],
   "source": [
    "# 퀵 소트를 이용하니까, 메모리 초과 뜸 \n",
    "# 재귀의 형태라서 그런가?...\n",
    "def quick_sort(list):\n",
    "    if len(list)<=1:\n",
    "        return list\n",
    "    else:\n",
    "        pivot=list[0]\n",
    "        a_array=[i for i in list[1:] if i < pivot]\n",
    "        b_array=[i for i in list[1:] if i >= pivot]\n",
    "        return quick_sort(a_array)+[pivot]+quick_sort(b_array)\n",
    "        \n",
    "count = int(input())\n",
    "list = [None]*count\n",
    "for i in range(len(list)):\n",
    "    list[i]=int(input())\n",
    "list = quick_sort(list)\n",
    "for i in range(len(list)):\n",
    "    print(list[i])"
   ]
  }
 ],
 "metadata": {
  "kernelspec": {
   "display_name": "Python 3",
   "language": "python",
   "name": "python3"
  },
  "language_info": {
   "codemirror_mode": {
    "name": "ipython",
    "version": 3
   },
   "file_extension": ".py",
   "mimetype": "text/x-python",
   "name": "python",
   "nbconvert_exporter": "python",
   "pygments_lexer": "ipython3",
   "version": "3.7.1"
  }
 },
 "nbformat": 4,
 "nbformat_minor": 2
}
