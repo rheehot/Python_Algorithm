{
 "cells": [
  {
   "cell_type": "markdown",
   "metadata": {},
   "source": [
    "헤헤헤 오랜만에 소수 찾는다아아 헤헤헤헤\n",
    "정수론 할때 실컷했는데\n",
    "우선 소수는 1과 자기 자신을 빼고는 나누어 떨어지지 않게끔 해야한다.\n"
   ]
  },
  {
   "cell_type": "code",
   "execution_count": 18,
   "metadata": {},
   "outputs": [
    {
     "name": "stdout",
     "output_type": "stream",
     "text": [
      "5\n",
      "4 12 8 9\n",
      "0\n"
     ]
    }
   ],
   "source": [
    "# 1978번 소수 판별 문제\n",
    "def is_pirme(number):\n",
    "    if number == 1:\n",
    "        return False\n",
    "    elif number == 2:\n",
    "        return True\n",
    "    elif number !=2 and number % 2 == 0:\n",
    "        return False\n",
    "    for i in range(3,number-1,2):\n",
    "        if number % i== 0:\n",
    "            return False\n",
    "    return True\n",
    "\n",
    "def main():\n",
    "    input_value = int(input())\n",
    "    prime_number = list(map(int, input().split(' ')))\n",
    "    count = 0\n",
    "    for i in range(len(prime_number)):\n",
    "        if is_pirme(prime_number[i]):\n",
    "            count += 1\n",
    "    print(count)\n",
    "    \n",
    "main()"
   ]
  },
  {
   "cell_type": "code",
   "execution_count": 27,
   "metadata": {},
   "outputs": [
    {
     "name": "stdout",
     "output_type": "stream",
     "text": [
      "64 65\n",
      "-1\n"
     ]
    }
   ],
   "source": [
    "def is_prime(number):\n",
    "    if number == 1:\n",
    "        return False\n",
    "    elif number == 2:\n",
    "        return True\n",
    "    elif number !=2 and number % 2 == 0:\n",
    "        return False\n",
    "    for i in range(3,number-1,2):\n",
    "        if number % i== 0:\n",
    "            return False\n",
    "    return True\n",
    "\n",
    "result = 0\n",
    "start,end = map(int,input().split())\n",
    "prime_list = []\n",
    "for i in range(start,end):\n",
    "    if is_prime(i):\n",
    "        prime_list.append(i)\n",
    "if len(prime_list)==0:\n",
    "    print(-1)\n",
    "else:\n",
    "    for i in range(len(prime_list)):\n",
    "        result += prime_list[i]\n",
    "    print(result)\n",
    "    print(prime_list[0])"
   ]
  }
 ],
 "metadata": {
  "kernelspec": {
   "display_name": "Python 3",
   "language": "python",
   "name": "python3"
  },
  "language_info": {
   "codemirror_mode": {
    "name": "ipython",
    "version": 3
   },
   "file_extension": ".py",
   "mimetype": "text/x-python",
   "name": "python",
   "nbconvert_exporter": "python",
   "pygments_lexer": "ipython3",
   "version": "3.7.1"
  }
 },
 "nbformat": 4,
 "nbformat_minor": 2
}
