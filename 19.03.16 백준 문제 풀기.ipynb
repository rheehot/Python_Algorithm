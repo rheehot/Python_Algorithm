{
 "cells": [
  {
   "cell_type": "code",
   "execution_count": 11,
   "metadata": {},
   "outputs": [
    {
     "name": "stdout",
     "output_type": "stream",
     "text": [
      "4\n",
      "12 3 8 4\n",
      "4/1\n",
      "3/2\n",
      "3/1\n"
     ]
    }
   ],
   "source": [
    "def gcd(a,b):\n",
    "    return a if b==0 else gcd(b,a%b)\n",
    "\n",
    "if __name__==\"__main__\":\n",
    "    n = int(input())\n",
    "    n_list=list(map(int,input().split()))\n",
    "    for i in range(n-1):\n",
    "        gcd_temp=gcd(n_list[0],n_list[i+1])\n",
    "        print(\"%d/%d\"%(int(n_list[0]/gcd_temp),int(n_list[i+1]/gcd_temp)))"
   ]
  },
  {
   "cell_type": "code",
   "execution_count": 14,
   "metadata": {},
   "outputs": [
    {
     "name": "stdout",
     "output_type": "stream",
     "text": [
      "0 32\n",
      "3 13\n",
      "28 25\n",
      "39 0\n",
      "42\n"
     ]
    }
   ],
   "source": [
    "if __name__==\"__main__\":\n",
    "    value = 0\n",
    "    count = []\n",
    "    for i in range(4):\n",
    "        down,up = map(int,input().split())\n",
    "        value += (up-down)\n",
    "        count.append(value)\n",
    "    print(max(count))"
   ]
  }
 ],
 "metadata": {
  "kernelspec": {
   "display_name": "Python 3",
   "language": "python",
   "name": "python3"
  },
  "language_info": {
   "codemirror_mode": {
    "name": "ipython",
    "version": 3
   },
   "file_extension": ".py",
   "mimetype": "text/x-python",
   "name": "python",
   "nbconvert_exporter": "python",
   "pygments_lexer": "ipython3",
   "version": "3.7.1"
  }
 },
 "nbformat": 4,
 "nbformat_minor": 2
}
