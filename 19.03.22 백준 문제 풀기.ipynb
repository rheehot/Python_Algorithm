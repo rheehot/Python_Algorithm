{
 "cells": [
  {
   "cell_type": "code",
   "execution_count": 5,
   "metadata": {},
   "outputs": [
    {
     "name": "stdout",
     "output_type": "stream",
     "text": [
      "10 4790\n",
      "1\n",
      "5\n",
      "10\n",
      "50\n",
      "100\n",
      "500\n",
      "1000\n",
      "5000\n",
      "10000\n",
      "50000\n",
      "12\n"
     ]
    }
   ],
   "source": [
    "if __name__==\"__main__\":\n",
    "    n, a = map(int,input().split())\n",
    "    value_n = []\n",
    "    count = 0\n",
    "    for i in range(n):\n",
    "        value_n.append(int(input()))\n",
    "    value_n = value_n[::-1]\n",
    "    for j in value_n:\n",
    "        if a >= j:\n",
    "            count += a // j\n",
    "            a = a %j\n",
    "    print(count)"
   ]
  },
  {
   "cell_type": "code",
   "execution_count": 8,
   "metadata": {},
   "outputs": [
    {
     "name": "stdout",
     "output_type": "stream",
     "text": [
      "3\n",
      "3\n",
      "4\n",
      "5\n",
      "12\n"
     ]
    }
   ],
   "source": [
    "if __name__==\"__main__\":\n",
    "    n = int(input())\n",
    "    a_list = []\n",
    "    count = 0\n",
    "    for i in range(n):\n",
    "        a_list.append(int(input()))\n",
    "    a_list.sort()\n",
    "    a_list = a_list[::-1]\n",
    "    for i in range(0,n-2):\n",
    "        for j in range(i+1,n-1):\n",
    "            if a_list[i] < a_list[j]+a_list[j+1] and count == 0:\n",
    "                count += 1\n",
    "                print(a_list[i]+a_list[j]+a_list[j+1])\n",
    "    if(count ==0):\n",
    "        print(-1)"
   ]
  },
  {
   "cell_type": "code",
   "execution_count": 10,
   "metadata": {},
   "outputs": [
    {
     "name": "stdout",
     "output_type": "stream",
     "text": [
      "5\n",
      "*****\n",
      " ****\n",
      "  ***\n",
      "   **\n",
      "    *\n"
     ]
    }
   ],
   "source": [
    "n = int(input())\n",
    "for i in range(n,0,-1):\n",
    "    for k in range(n-i):\n",
    "        print(\" \",end='')\n",
    "    for j in range(i):\n",
    "        print(\"*\",end='')\n",
    "    print()"
   ]
  },
  {
   "cell_type": "code",
   "execution_count": 11,
   "metadata": {},
   "outputs": [
    {
     "name": "stdout",
     "output_type": "stream",
     "text": [
      "level\n",
      "1\n"
     ]
    }
   ],
   "source": [
    "a = input()\n",
    "b = a[::-1]\n",
    "if a==b:\n",
    "    print(1)\n",
    "else:\n",
    "    print(0)"
   ]
  },
  {
   "cell_type": "code",
   "execution_count": 37,
   "metadata": {},
   "outputs": [
    {
     "name": "stdout",
     "output_type": "stream",
     "text": [
      "18\n",
      "4\n"
     ]
    }
   ],
   "source": [
    "def f(n):\n",
    "    for i in range(0,n//3+1):\n",
    "        for j in range(0,n//5+1):\n",
    "            if i*3 + j*5 == n:\n",
    "                return i+j\n",
    "    return -1\n",
    "\n",
    "n = int(input())\n",
    "print(f(n))"
   ]
  },
  {
   "cell_type": "code",
   "execution_count": 39,
   "metadata": {},
   "outputs": [
    {
     "name": "stdout",
     "output_type": "stream",
     "text": [
      "734 893\n",
      "437\n"
     ]
    }
   ],
   "source": [
    "a,b = input().split()\n",
    "c,d = int(a[::-1]),int(b[::-1])\n",
    "if c > d:\n",
    "    print(c)\n",
    "else:\n",
    "    print(d)"
   ]
  },
  {
   "cell_type": "code",
   "execution_count": 48,
   "metadata": {},
   "outputs": [
    {
     "name": "stdout",
     "output_type": "stream",
     "text": [
      "9998\n",
      "CY\n"
     ]
    }
   ],
   "source": [
    "n = int(input())\n",
    "sk ,cy = 1, 0\n",
    "while n!=4:\n",
    "    if n> 10:\n",
    "        if sk ==1:\n",
    "            cy = 1\n",
    "            sk = 0\n",
    "            n -= 3\n",
    "        else:\n",
    "            cy = 0\n",
    "            sk = 1\n",
    "            n -= 3\n",
    "    else:\n",
    "        if sk ==1:\n",
    "            cy = 1\n",
    "            sk = 0\n",
    "            n -= 1\n",
    "        else:\n",
    "            cy = 0\n",
    "            sk = 1\n",
    "            n -= 1\n",
    "\n",
    "if n == 4:\n",
    "    if sk==1:\n",
    "        print(\"CY\")\n",
    "    else:\n",
    "        print(\"SK\")"
   ]
  }
 ],
 "metadata": {
  "kernelspec": {
   "display_name": "Python 3",
   "language": "python",
   "name": "python3"
  },
  "language_info": {
   "codemirror_mode": {
    "name": "ipython",
    "version": 3
   },
   "file_extension": ".py",
   "mimetype": "text/x-python",
   "name": "python",
   "nbconvert_exporter": "python",
   "pygments_lexer": "ipython3",
   "version": "3.7.1"
  }
 },
 "nbformat": 4,
 "nbformat_minor": 2
}
